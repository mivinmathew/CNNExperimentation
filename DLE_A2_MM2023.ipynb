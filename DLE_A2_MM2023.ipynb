{
  "nbformat": 4,
  "nbformat_minor": 0,
  "metadata": {
    "colab": {
      "provenance": []
    },
    "kernelspec": {
      "name": "python3",
      "display_name": "Python 3"
    },
    "language_info": {
      "name": "python"
    }
  },
  "cells": [
    {
      "cell_type": "markdown",
      "source": [
        "# **CNN Image Classifier [ Cats + Dogs ] using TensorFlow and Keras Libraries**"
      ],
      "metadata": {
        "id": "Ex15yu3e9Ost"
      }
    },
    {
      "cell_type": "markdown",
      "source": [
        "build developed from the following references:\n",
        "\n",
        "[1] Strika.L (2019) Convolutional Neural Networks : A Python Tutorial Using TensorFlow and Keras https://www.kdnuggets.com/2019/07/convolutional-neural-networks-python-tutorial-tensorflow-keras.html\n",
        "https://github.com/StrikingLoo/Cats-and-dogs-classifier-tensorflow-CNN/blob/master/Convolutional_experiments.ipynb\n",
        "\n",
        "[2] Google (2023) Intro to Neural Nets\n",
        "https://colab.research.google.com/github/google/eng-edu/blob/main/ml/cc/exercises/intro_to_neural_nets.ipynb?utm_source=mlcc&utm_campaign=colab-external&utm_medium=referral&utm_content=intro_to_nn_tf2-colab&hl=en\n",
        "\n",
        "[3] Google Open Source (2022) Image Classification Excercises\n",
        "https://github.com/google/eng-edu/tree/main/ml/pc/exercises"
      ],
      "metadata": {
        "id": "STL-ZcSsZw5c"
      }
    },
    {
      "cell_type": "markdown",
      "source": [
        "#PreProcessing of Data"
      ],
      "metadata": {
        "id": "0bPb5IMm1TFC"
      }
    },
    {
      "cell_type": "code",
      "source": [
        "!wget --no-check-certificate \\\n",
        "    https://storage.googleapis.com/mledu-datasets/cats_and_dogs_filtered.zip \\\n",
        "    -O /tmp/cats_and_dogs_filtered.zip"
      ],
      "metadata": {
        "colab": {
          "base_uri": "https://localhost:8080/"
        },
        "id": "Awd7m44JsAb6",
        "outputId": "a35cd6b1-aa37-4d8a-a3d8-5eebfcfca154"
      },
      "execution_count": 5,
      "outputs": [
        {
          "output_type": "stream",
          "name": "stdout",
          "text": [
            "--2023-04-17 01:04:34--  https://storage.googleapis.com/mledu-datasets/cats_and_dogs_filtered.zip\n",
            "Resolving storage.googleapis.com (storage.googleapis.com)... 142.251.107.128, 74.125.196.128, 173.194.213.128, ...\n",
            "Connecting to storage.googleapis.com (storage.googleapis.com)|142.251.107.128|:443... connected.\n",
            "HTTP request sent, awaiting response... 200 OK\n",
            "Length: 68606236 (65M) [application/zip]\n",
            "Saving to: ‘/tmp/cats_and_dogs_filtered.zip’\n",
            "\n",
            "/tmp/cats_and_dogs_ 100%[===================>]  65.43M   136MB/s    in 0.5s    \n",
            "\n",
            "2023-04-17 01:04:34 (136 MB/s) - ‘/tmp/cats_and_dogs_filtered.zip’ saved [68606236/68606236]\n",
            "\n"
          ]
        }
      ]
    },
    {
      "cell_type": "markdown",
      "source": [
        "##Importing required libraries + setting up input layer"
      ],
      "metadata": {
        "id": "H8gI-KeP1aQ3"
      }
    },
    {
      "cell_type": "markdown",
      "source": [
        "Extracting dataset"
      ],
      "metadata": {
        "id": "pMcSyQW81eCf"
      }
    },
    {
      "cell_type": "code",
      "source": [
        "import os\n",
        "import zipfile\n",
        "\n",
        "local_zip = '/tmp/cats_and_dogs_filtered.zip'\n",
        "zip_ref = zipfile.ZipFile(local_zip, 'r')\n",
        "zip_ref.extractall('/tmp')\n",
        "zip_ref.close()"
      ],
      "metadata": {
        "id": "n5PWao4LvhBO"
      },
      "execution_count": 6,
      "outputs": []
    },
    {
      "cell_type": "markdown",
      "source": [
        "Import Libraries \n",
        "\n",
        "* used for data processing and visualisation and ML tasks.\n",
        "\n",
        "\n"
      ],
      "metadata": {
        "id": "svOvAVb4vlQg"
      }
    },
    {
      "cell_type": "code",
      "source": [
        "import tensorflow as tf\n",
        "import seaborn as sns\n",
        "import numpy as np\n",
        "\n",
        "from PIL import Image\n",
        "import glob\n",
        "from collections import defaultdict\n",
        "from tensorflow import keras\n",
        "from tensorflow.keras import layers"
      ],
      "metadata": {
        "id": "Mteq-KGtvmrP"
      },
      "execution_count": 7,
      "outputs": []
    },
    {
      "cell_type": "code",
      "source": [
        " IMG_SIZE = (94, 125)\n",
        "def pixels_from_path(file_path):\n",
        "    im = Image.open(file_path)\n",
        "    \n",
        "    im = im.resize(IMG_SIZE)\n",
        "    np_im = np.array(im)\n",
        "    #matrix of pixel RGB values\n",
        "    return np_im"
      ],
      "metadata": {
        "id": "-wdHrNtcvpqD"
      },
      "execution_count": 8,
      "outputs": []
    },
    {
      "cell_type": "code",
      "source": [
        "base_dir = '/tmp/cats_and_dogs_filtered'\n",
        "train_dir = os.path.join(base_dir, 'train')\n",
        "validation_dir = os.path.join(base_dir, 'validation')\n",
        "\n",
        "# Directory with our training cat pictures\n",
        "train_cats_dir = os.path.join(train_dir, 'cats')\n",
        "\n",
        "# Directory with our training dog pictures\n",
        "train_dogs_dir = os.path.join(train_dir, 'dogs')\n",
        "\n",
        "# Directory with our validation cat pictures\n",
        "validation_cats_dir = os.path.join(validation_dir, 'cats')\n",
        "\n",
        "# Directory with our validation dog pictures\n",
        "validation_dogs_dir = os.path.join(validation_dir, 'dogs')"
      ],
      "metadata": {
        "id": "cfw11rD-vs1h"
      },
      "execution_count": 10,
      "outputs": []
    },
    {
      "cell_type": "code",
      "source": [
        "glob.glob('/tmp/cats_and_dogs_filtered/train/cats/*')"
      ],
      "metadata": {
        "colab": {
          "base_uri": "https://localhost:8080/"
        },
        "id": "-TYQvPE_wCu8",
        "outputId": "a6402b7c-c2ed-4529-b4ec-58a8d04b4f41"
      },
      "execution_count": 12,
      "outputs": [
        {
          "output_type": "execute_result",
          "data": {
            "text/plain": [
              "['/tmp/cats_and_dogs_filtered/train/cats/cat.758.jpg',\n",
              " '/tmp/cats_and_dogs_filtered/train/cats/cat.844.jpg',\n",
              " '/tmp/cats_and_dogs_filtered/train/cats/cat.64.jpg',\n",
              " '/tmp/cats_and_dogs_filtered/train/cats/cat.468.jpg',\n",
              " '/tmp/cats_and_dogs_filtered/train/cats/cat.802.jpg',\n",
              " '/tmp/cats_and_dogs_filtered/train/cats/cat.126.jpg',\n",
              " '/tmp/cats_and_dogs_filtered/train/cats/cat.623.jpg',\n",
              " '/tmp/cats_and_dogs_filtered/train/cats/cat.539.jpg',\n",
              " '/tmp/cats_and_dogs_filtered/train/cats/cat.592.jpg',\n",
              " '/tmp/cats_and_dogs_filtered/train/cats/cat.881.jpg',\n",
              " '/tmp/cats_and_dogs_filtered/train/cats/cat.525.jpg',\n",
              " '/tmp/cats_and_dogs_filtered/train/cats/cat.904.jpg',\n",
              " '/tmp/cats_and_dogs_filtered/train/cats/cat.360.jpg',\n",
              " '/tmp/cats_and_dogs_filtered/train/cats/cat.805.jpg',\n",
              " '/tmp/cats_and_dogs_filtered/train/cats/cat.354.jpg',\n",
              " '/tmp/cats_and_dogs_filtered/train/cats/cat.89.jpg',\n",
              " '/tmp/cats_and_dogs_filtered/train/cats/cat.625.jpg',\n",
              " '/tmp/cats_and_dogs_filtered/train/cats/cat.482.jpg',\n",
              " '/tmp/cats_and_dogs_filtered/train/cats/cat.986.jpg',\n",
              " '/tmp/cats_and_dogs_filtered/train/cats/cat.372.jpg',\n",
              " '/tmp/cats_and_dogs_filtered/train/cats/cat.914.jpg',\n",
              " '/tmp/cats_and_dogs_filtered/train/cats/cat.472.jpg',\n",
              " '/tmp/cats_and_dogs_filtered/train/cats/cat.669.jpg',\n",
              " '/tmp/cats_and_dogs_filtered/train/cats/cat.345.jpg',\n",
              " '/tmp/cats_and_dogs_filtered/train/cats/cat.859.jpg',\n",
              " '/tmp/cats_and_dogs_filtered/train/cats/cat.19.jpg',\n",
              " '/tmp/cats_and_dogs_filtered/train/cats/cat.747.jpg',\n",
              " '/tmp/cats_and_dogs_filtered/train/cats/cat.961.jpg',\n",
              " '/tmp/cats_and_dogs_filtered/train/cats/cat.269.jpg',\n",
              " '/tmp/cats_and_dogs_filtered/train/cats/cat.828.jpg',\n",
              " '/tmp/cats_and_dogs_filtered/train/cats/cat.395.jpg',\n",
              " '/tmp/cats_and_dogs_filtered/train/cats/cat.412.jpg',\n",
              " '/tmp/cats_and_dogs_filtered/train/cats/cat.397.jpg',\n",
              " '/tmp/cats_and_dogs_filtered/train/cats/cat.746.jpg',\n",
              " '/tmp/cats_and_dogs_filtered/train/cats/cat.573.jpg',\n",
              " '/tmp/cats_and_dogs_filtered/train/cats/cat.152.jpg',\n",
              " '/tmp/cats_and_dogs_filtered/train/cats/cat.400.jpg',\n",
              " '/tmp/cats_and_dogs_filtered/train/cats/cat.887.jpg',\n",
              " '/tmp/cats_and_dogs_filtered/train/cats/cat.343.jpg',\n",
              " '/tmp/cats_and_dogs_filtered/train/cats/cat.160.jpg',\n",
              " '/tmp/cats_and_dogs_filtered/train/cats/cat.920.jpg',\n",
              " '/tmp/cats_and_dogs_filtered/train/cats/cat.787.jpg',\n",
              " '/tmp/cats_and_dogs_filtered/train/cats/cat.916.jpg',\n",
              " '/tmp/cats_and_dogs_filtered/train/cats/cat.736.jpg',\n",
              " '/tmp/cats_and_dogs_filtered/train/cats/cat.141.jpg',\n",
              " '/tmp/cats_and_dogs_filtered/train/cats/cat.697.jpg',\n",
              " '/tmp/cats_and_dogs_filtered/train/cats/cat.633.jpg',\n",
              " '/tmp/cats_and_dogs_filtered/train/cats/cat.53.jpg',\n",
              " '/tmp/cats_and_dogs_filtered/train/cats/cat.779.jpg',\n",
              " '/tmp/cats_and_dogs_filtered/train/cats/cat.526.jpg',\n",
              " '/tmp/cats_and_dogs_filtered/train/cats/cat.730.jpg',\n",
              " '/tmp/cats_and_dogs_filtered/train/cats/cat.803.jpg',\n",
              " '/tmp/cats_and_dogs_filtered/train/cats/cat.55.jpg',\n",
              " '/tmp/cats_and_dogs_filtered/train/cats/cat.597.jpg',\n",
              " '/tmp/cats_and_dogs_filtered/train/cats/cat.380.jpg',\n",
              " '/tmp/cats_and_dogs_filtered/train/cats/cat.786.jpg',\n",
              " '/tmp/cats_and_dogs_filtered/train/cats/cat.258.jpg',\n",
              " '/tmp/cats_and_dogs_filtered/train/cats/cat.207.jpg',\n",
              " '/tmp/cats_and_dogs_filtered/train/cats/cat.846.jpg',\n",
              " '/tmp/cats_and_dogs_filtered/train/cats/cat.731.jpg',\n",
              " '/tmp/cats_and_dogs_filtered/train/cats/cat.355.jpg',\n",
              " '/tmp/cats_and_dogs_filtered/train/cats/cat.418.jpg',\n",
              " '/tmp/cats_and_dogs_filtered/train/cats/cat.203.jpg',\n",
              " '/tmp/cats_and_dogs_filtered/train/cats/cat.331.jpg',\n",
              " '/tmp/cats_and_dogs_filtered/train/cats/cat.249.jpg',\n",
              " '/tmp/cats_and_dogs_filtered/train/cats/cat.941.jpg',\n",
              " '/tmp/cats_and_dogs_filtered/train/cats/cat.82.jpg',\n",
              " '/tmp/cats_and_dogs_filtered/train/cats/cat.892.jpg',\n",
              " '/tmp/cats_and_dogs_filtered/train/cats/cat.708.jpg',\n",
              " '/tmp/cats_and_dogs_filtered/train/cats/cat.651.jpg',\n",
              " '/tmp/cats_and_dogs_filtered/train/cats/cat.585.jpg',\n",
              " '/tmp/cats_and_dogs_filtered/train/cats/cat.42.jpg',\n",
              " '/tmp/cats_and_dogs_filtered/train/cats/cat.888.jpg',\n",
              " '/tmp/cats_and_dogs_filtered/train/cats/cat.275.jpg',\n",
              " '/tmp/cats_and_dogs_filtered/train/cats/cat.905.jpg',\n",
              " '/tmp/cats_and_dogs_filtered/train/cats/cat.169.jpg',\n",
              " '/tmp/cats_and_dogs_filtered/train/cats/cat.190.jpg',\n",
              " '/tmp/cats_and_dogs_filtered/train/cats/cat.209.jpg',\n",
              " '/tmp/cats_and_dogs_filtered/train/cats/cat.507.jpg',\n",
              " '/tmp/cats_and_dogs_filtered/train/cats/cat.569.jpg',\n",
              " '/tmp/cats_and_dogs_filtered/train/cats/cat.365.jpg',\n",
              " '/tmp/cats_and_dogs_filtered/train/cats/cat.133.jpg',\n",
              " '/tmp/cats_and_dogs_filtered/train/cats/cat.167.jpg',\n",
              " '/tmp/cats_and_dogs_filtered/train/cats/cat.131.jpg',\n",
              " '/tmp/cats_and_dogs_filtered/train/cats/cat.464.jpg',\n",
              " '/tmp/cats_and_dogs_filtered/train/cats/cat.224.jpg',\n",
              " '/tmp/cats_and_dogs_filtered/train/cats/cat.977.jpg',\n",
              " '/tmp/cats_and_dogs_filtered/train/cats/cat.563.jpg',\n",
              " '/tmp/cats_and_dogs_filtered/train/cats/cat.162.jpg',\n",
              " '/tmp/cats_and_dogs_filtered/train/cats/cat.953.jpg',\n",
              " '/tmp/cats_and_dogs_filtered/train/cats/cat.364.jpg',\n",
              " '/tmp/cats_and_dogs_filtered/train/cats/cat.21.jpg',\n",
              " '/tmp/cats_and_dogs_filtered/train/cats/cat.642.jpg',\n",
              " '/tmp/cats_and_dogs_filtered/train/cats/cat.856.jpg',\n",
              " '/tmp/cats_and_dogs_filtered/train/cats/cat.403.jpg',\n",
              " '/tmp/cats_and_dogs_filtered/train/cats/cat.990.jpg',\n",
              " '/tmp/cats_and_dogs_filtered/train/cats/cat.950.jpg',\n",
              " '/tmp/cats_and_dogs_filtered/train/cats/cat.490.jpg',\n",
              " '/tmp/cats_and_dogs_filtered/train/cats/cat.940.jpg',\n",
              " '/tmp/cats_and_dogs_filtered/train/cats/cat.428.jpg',\n",
              " '/tmp/cats_and_dogs_filtered/train/cats/cat.108.jpg',\n",
              " '/tmp/cats_and_dogs_filtered/train/cats/cat.983.jpg',\n",
              " '/tmp/cats_and_dogs_filtered/train/cats/cat.687.jpg',\n",
              " '/tmp/cats_and_dogs_filtered/train/cats/cat.932.jpg',\n",
              " '/tmp/cats_and_dogs_filtered/train/cats/cat.971.jpg',\n",
              " '/tmp/cats_and_dogs_filtered/train/cats/cat.220.jpg',\n",
              " '/tmp/cats_and_dogs_filtered/train/cats/cat.10.jpg',\n",
              " '/tmp/cats_and_dogs_filtered/train/cats/cat.387.jpg',\n",
              " '/tmp/cats_and_dogs_filtered/train/cats/cat.829.jpg',\n",
              " '/tmp/cats_and_dogs_filtered/train/cats/cat.780.jpg',\n",
              " '/tmp/cats_and_dogs_filtered/train/cats/cat.517.jpg',\n",
              " '/tmp/cats_and_dogs_filtered/train/cats/cat.528.jpg',\n",
              " '/tmp/cats_and_dogs_filtered/train/cats/cat.312.jpg',\n",
              " '/tmp/cats_and_dogs_filtered/train/cats/cat.743.jpg',\n",
              " '/tmp/cats_and_dogs_filtered/train/cats/cat.103.jpg',\n",
              " '/tmp/cats_and_dogs_filtered/train/cats/cat.999.jpg',\n",
              " '/tmp/cats_and_dogs_filtered/train/cats/cat.283.jpg',\n",
              " '/tmp/cats_and_dogs_filtered/train/cats/cat.668.jpg',\n",
              " '/tmp/cats_and_dogs_filtered/train/cats/cat.851.jpg',\n",
              " '/tmp/cats_and_dogs_filtered/train/cats/cat.799.jpg',\n",
              " '/tmp/cats_and_dogs_filtered/train/cats/cat.593.jpg',\n",
              " '/tmp/cats_and_dogs_filtered/train/cats/cat.377.jpg',\n",
              " '/tmp/cats_and_dogs_filtered/train/cats/cat.825.jpg',\n",
              " '/tmp/cats_and_dogs_filtered/train/cats/cat.301.jpg',\n",
              " '/tmp/cats_and_dogs_filtered/train/cats/cat.498.jpg',\n",
              " '/tmp/cats_and_dogs_filtered/train/cats/cat.496.jpg',\n",
              " '/tmp/cats_and_dogs_filtered/train/cats/cat.125.jpg',\n",
              " '/tmp/cats_and_dogs_filtered/train/cats/cat.297.jpg',\n",
              " '/tmp/cats_and_dogs_filtered/train/cats/cat.533.jpg',\n",
              " '/tmp/cats_and_dogs_filtered/train/cats/cat.565.jpg',\n",
              " '/tmp/cats_and_dogs_filtered/train/cats/cat.394.jpg',\n",
              " '/tmp/cats_and_dogs_filtered/train/cats/cat.812.jpg',\n",
              " '/tmp/cats_and_dogs_filtered/train/cats/cat.588.jpg',\n",
              " '/tmp/cats_and_dogs_filtered/train/cats/cat.956.jpg',\n",
              " '/tmp/cats_and_dogs_filtered/train/cats/cat.311.jpg',\n",
              " '/tmp/cats_and_dogs_filtered/train/cats/cat.664.jpg',\n",
              " '/tmp/cats_and_dogs_filtered/train/cats/cat.709.jpg',\n",
              " '/tmp/cats_and_dogs_filtered/train/cats/cat.554.jpg',\n",
              " '/tmp/cats_and_dogs_filtered/train/cats/cat.24.jpg',\n",
              " '/tmp/cats_and_dogs_filtered/train/cats/cat.683.jpg',\n",
              " '/tmp/cats_and_dogs_filtered/train/cats/cat.204.jpg',\n",
              " '/tmp/cats_and_dogs_filtered/train/cats/cat.465.jpg',\n",
              " '/tmp/cats_and_dogs_filtered/train/cats/cat.4.jpg',\n",
              " '/tmp/cats_and_dogs_filtered/train/cats/cat.788.jpg',\n",
              " '/tmp/cats_and_dogs_filtered/train/cats/cat.583.jpg',\n",
              " '/tmp/cats_and_dogs_filtered/train/cats/cat.449.jpg',\n",
              " '/tmp/cats_and_dogs_filtered/train/cats/cat.357.jpg',\n",
              " '/tmp/cats_and_dogs_filtered/train/cats/cat.444.jpg',\n",
              " '/tmp/cats_and_dogs_filtered/train/cats/cat.819.jpg',\n",
              " '/tmp/cats_and_dogs_filtered/train/cats/cat.94.jpg',\n",
              " '/tmp/cats_and_dogs_filtered/train/cats/cat.11.jpg',\n",
              " '/tmp/cats_and_dogs_filtered/train/cats/cat.398.jpg',\n",
              " '/tmp/cats_and_dogs_filtered/train/cats/cat.161.jpg',\n",
              " '/tmp/cats_and_dogs_filtered/train/cats/cat.56.jpg',\n",
              " '/tmp/cats_and_dogs_filtered/train/cats/cat.648.jpg',\n",
              " '/tmp/cats_and_dogs_filtered/train/cats/cat.955.jpg',\n",
              " '/tmp/cats_and_dogs_filtered/train/cats/cat.379.jpg',\n",
              " '/tmp/cats_and_dogs_filtered/train/cats/cat.538.jpg',\n",
              " '/tmp/cats_and_dogs_filtered/train/cats/cat.5.jpg',\n",
              " '/tmp/cats_and_dogs_filtered/train/cats/cat.898.jpg',\n",
              " '/tmp/cats_and_dogs_filtered/train/cats/cat.670.jpg',\n",
              " '/tmp/cats_and_dogs_filtered/train/cats/cat.688.jpg',\n",
              " '/tmp/cats_and_dogs_filtered/train/cats/cat.239.jpg',\n",
              " '/tmp/cats_and_dogs_filtered/train/cats/cat.952.jpg',\n",
              " '/tmp/cats_and_dogs_filtered/train/cats/cat.328.jpg',\n",
              " '/tmp/cats_and_dogs_filtered/train/cats/cat.745.jpg',\n",
              " '/tmp/cats_and_dogs_filtered/train/cats/cat.91.jpg',\n",
              " '/tmp/cats_and_dogs_filtered/train/cats/cat.284.jpg',\n",
              " '/tmp/cats_and_dogs_filtered/train/cats/cat.772.jpg',\n",
              " '/tmp/cats_and_dogs_filtered/train/cats/cat.158.jpg',\n",
              " '/tmp/cats_and_dogs_filtered/train/cats/cat.596.jpg',\n",
              " '/tmp/cats_and_dogs_filtered/train/cats/cat.555.jpg',\n",
              " '/tmp/cats_and_dogs_filtered/train/cats/cat.299.jpg',\n",
              " '/tmp/cats_and_dogs_filtered/train/cats/cat.242.jpg',\n",
              " '/tmp/cats_and_dogs_filtered/train/cats/cat.226.jpg',\n",
              " '/tmp/cats_and_dogs_filtered/train/cats/cat.213.jpg',\n",
              " '/tmp/cats_and_dogs_filtered/train/cats/cat.195.jpg',\n",
              " '/tmp/cats_and_dogs_filtered/train/cats/cat.801.jpg',\n",
              " '/tmp/cats_and_dogs_filtered/train/cats/cat.922.jpg',\n",
              " '/tmp/cats_and_dogs_filtered/train/cats/cat.553.jpg',\n",
              " '/tmp/cats_and_dogs_filtered/train/cats/cat.77.jpg',\n",
              " '/tmp/cats_and_dogs_filtered/train/cats/cat.434.jpg',\n",
              " '/tmp/cats_and_dogs_filtered/train/cats/cat.431.jpg',\n",
              " '/tmp/cats_and_dogs_filtered/train/cats/cat.607.jpg',\n",
              " '/tmp/cats_and_dogs_filtered/train/cats/cat.236.jpg',\n",
              " '/tmp/cats_and_dogs_filtered/train/cats/cat.491.jpg',\n",
              " '/tmp/cats_and_dogs_filtered/train/cats/cat.47.jpg',\n",
              " '/tmp/cats_and_dogs_filtered/train/cats/cat.908.jpg',\n",
              " '/tmp/cats_and_dogs_filtered/train/cats/cat.929.jpg',\n",
              " '/tmp/cats_and_dogs_filtered/train/cats/cat.871.jpg',\n",
              " '/tmp/cats_and_dogs_filtered/train/cats/cat.543.jpg',\n",
              " '/tmp/cats_and_dogs_filtered/train/cats/cat.574.jpg',\n",
              " '/tmp/cats_and_dogs_filtered/train/cats/cat.540.jpg',\n",
              " '/tmp/cats_and_dogs_filtered/train/cats/cat.166.jpg',\n",
              " '/tmp/cats_and_dogs_filtered/train/cats/cat.836.jpg',\n",
              " '/tmp/cats_and_dogs_filtered/train/cats/cat.179.jpg',\n",
              " '/tmp/cats_and_dogs_filtered/train/cats/cat.188.jpg',\n",
              " '/tmp/cats_and_dogs_filtered/train/cats/cat.880.jpg',\n",
              " '/tmp/cats_and_dogs_filtered/train/cats/cat.732.jpg',\n",
              " '/tmp/cats_and_dogs_filtered/train/cats/cat.594.jpg',\n",
              " '/tmp/cats_and_dogs_filtered/train/cats/cat.151.jpg',\n",
              " '/tmp/cats_and_dogs_filtered/train/cats/cat.445.jpg',\n",
              " '/tmp/cats_and_dogs_filtered/train/cats/cat.33.jpg',\n",
              " '/tmp/cats_and_dogs_filtered/train/cats/cat.86.jpg',\n",
              " '/tmp/cats_and_dogs_filtered/train/cats/cat.879.jpg',\n",
              " '/tmp/cats_and_dogs_filtered/train/cats/cat.458.jpg',\n",
              " '/tmp/cats_and_dogs_filtered/train/cats/cat.810.jpg',\n",
              " '/tmp/cats_and_dogs_filtered/train/cats/cat.494.jpg',\n",
              " '/tmp/cats_and_dogs_filtered/train/cats/cat.281.jpg',\n",
              " '/tmp/cats_and_dogs_filtered/train/cats/cat.182.jpg',\n",
              " '/tmp/cats_and_dogs_filtered/train/cats/cat.840.jpg',\n",
              " '/tmp/cats_and_dogs_filtered/train/cats/cat.487.jpg',\n",
              " '/tmp/cats_and_dogs_filtered/train/cats/cat.876.jpg',\n",
              " '/tmp/cats_and_dogs_filtered/train/cats/cat.369.jpg',\n",
              " '/tmp/cats_and_dogs_filtered/train/cats/cat.466.jpg',\n",
              " '/tmp/cats_and_dogs_filtered/train/cats/cat.300.jpg',\n",
              " '/tmp/cats_and_dogs_filtered/train/cats/cat.643.jpg',\n",
              " '/tmp/cats_and_dogs_filtered/train/cats/cat.760.jpg',\n",
              " '/tmp/cats_and_dogs_filtered/train/cats/cat.740.jpg',\n",
              " '/tmp/cats_and_dogs_filtered/train/cats/cat.308.jpg',\n",
              " '/tmp/cats_and_dogs_filtered/train/cats/cat.473.jpg',\n",
              " '/tmp/cats_and_dogs_filtered/train/cats/cat.442.jpg',\n",
              " '/tmp/cats_and_dogs_filtered/train/cats/cat.506.jpg',\n",
              " '/tmp/cats_and_dogs_filtered/train/cats/cat.529.jpg',\n",
              " '/tmp/cats_and_dogs_filtered/train/cats/cat.60.jpg',\n",
              " '/tmp/cats_and_dogs_filtered/train/cats/cat.492.jpg',\n",
              " '/tmp/cats_and_dogs_filtered/train/cats/cat.917.jpg',\n",
              " '/tmp/cats_and_dogs_filtered/train/cats/cat.396.jpg',\n",
              " '/tmp/cats_and_dogs_filtered/train/cats/cat.541.jpg',\n",
              " '/tmp/cats_and_dogs_filtered/train/cats/cat.168.jpg',\n",
              " '/tmp/cats_and_dogs_filtered/train/cats/cat.138.jpg',\n",
              " '/tmp/cats_and_dogs_filtered/train/cats/cat.291.jpg',\n",
              " '/tmp/cats_and_dogs_filtered/train/cats/cat.632.jpg',\n",
              " '/tmp/cats_and_dogs_filtered/train/cats/cat.471.jpg',\n",
              " '/tmp/cats_and_dogs_filtered/train/cats/cat.520.jpg',\n",
              " '/tmp/cats_and_dogs_filtered/train/cats/cat.57.jpg',\n",
              " '/tmp/cats_and_dogs_filtered/train/cats/cat.172.jpg',\n",
              " '/tmp/cats_and_dogs_filtered/train/cats/cat.104.jpg',\n",
              " '/tmp/cats_and_dogs_filtered/train/cats/cat.938.jpg',\n",
              " '/tmp/cats_and_dogs_filtered/train/cats/cat.296.jpg',\n",
              " '/tmp/cats_and_dogs_filtered/train/cats/cat.120.jpg',\n",
              " '/tmp/cats_and_dogs_filtered/train/cats/cat.721.jpg',\n",
              " '/tmp/cats_and_dogs_filtered/train/cats/cat.202.jpg',\n",
              " '/tmp/cats_and_dogs_filtered/train/cats/cat.601.jpg',\n",
              " '/tmp/cats_and_dogs_filtered/train/cats/cat.441.jpg',\n",
              " '/tmp/cats_and_dogs_filtered/train/cats/cat.52.jpg',\n",
              " '/tmp/cats_and_dogs_filtered/train/cats/cat.87.jpg',\n",
              " '/tmp/cats_and_dogs_filtered/train/cats/cat.775.jpg',\n",
              " '/tmp/cats_and_dogs_filtered/train/cats/cat.248.jpg',\n",
              " '/tmp/cats_and_dogs_filtered/train/cats/cat.782.jpg',\n",
              " '/tmp/cats_and_dogs_filtered/train/cats/cat.657.jpg',\n",
              " '/tmp/cats_and_dogs_filtered/train/cats/cat.356.jpg',\n",
              " '/tmp/cats_and_dogs_filtered/train/cats/cat.199.jpg',\n",
              " '/tmp/cats_and_dogs_filtered/train/cats/cat.570.jpg',\n",
              " '/tmp/cats_and_dogs_filtered/train/cats/cat.923.jpg',\n",
              " '/tmp/cats_and_dogs_filtered/train/cats/cat.265.jpg',\n",
              " '/tmp/cats_and_dogs_filtered/train/cats/cat.129.jpg',\n",
              " '/tmp/cats_and_dogs_filtered/train/cats/cat.767.jpg',\n",
              " '/tmp/cats_and_dogs_filtered/train/cats/cat.842.jpg',\n",
              " '/tmp/cats_and_dogs_filtered/train/cats/cat.630.jpg',\n",
              " '/tmp/cats_and_dogs_filtered/train/cats/cat.429.jpg',\n",
              " '/tmp/cats_and_dogs_filtered/train/cats/cat.122.jpg',\n",
              " '/tmp/cats_and_dogs_filtered/train/cats/cat.653.jpg',\n",
              " '/tmp/cats_and_dogs_filtered/train/cats/cat.897.jpg',\n",
              " '/tmp/cats_and_dogs_filtered/train/cats/cat.223.jpg',\n",
              " '/tmp/cats_and_dogs_filtered/train/cats/cat.822.jpg',\n",
              " '/tmp/cats_and_dogs_filtered/train/cats/cat.984.jpg',\n",
              " '/tmp/cats_and_dogs_filtered/train/cats/cat.759.jpg',\n",
              " '/tmp/cats_and_dogs_filtered/train/cats/cat.974.jpg',\n",
              " '/tmp/cats_and_dogs_filtered/train/cats/cat.134.jpg',\n",
              " '/tmp/cats_and_dogs_filtered/train/cats/cat.219.jpg',\n",
              " '/tmp/cats_and_dogs_filtered/train/cats/cat.384.jpg',\n",
              " '/tmp/cats_and_dogs_filtered/train/cats/cat.25.jpg',\n",
              " '/tmp/cats_and_dogs_filtered/train/cats/cat.926.jpg',\n",
              " '/tmp/cats_and_dogs_filtered/train/cats/cat.495.jpg',\n",
              " '/tmp/cats_and_dogs_filtered/train/cats/cat.564.jpg',\n",
              " '/tmp/cats_and_dogs_filtered/train/cats/cat.910.jpg',\n",
              " '/tmp/cats_and_dogs_filtered/train/cats/cat.703.jpg',\n",
              " '/tmp/cats_and_dogs_filtered/train/cats/cat.885.jpg',\n",
              " '/tmp/cats_and_dogs_filtered/train/cats/cat.427.jpg',\n",
              " '/tmp/cats_and_dogs_filtered/train/cats/cat.652.jpg',\n",
              " '/tmp/cats_and_dogs_filtered/train/cats/cat.415.jpg',\n",
              " '/tmp/cats_and_dogs_filtered/train/cats/cat.947.jpg',\n",
              " '/tmp/cats_and_dogs_filtered/train/cats/cat.279.jpg',\n",
              " '/tmp/cats_and_dogs_filtered/train/cats/cat.754.jpg',\n",
              " '/tmp/cats_and_dogs_filtered/train/cats/cat.821.jpg',\n",
              " '/tmp/cats_and_dogs_filtered/train/cats/cat.737.jpg',\n",
              " '/tmp/cats_and_dogs_filtered/train/cats/cat.966.jpg',\n",
              " '/tmp/cats_and_dogs_filtered/train/cats/cat.811.jpg',\n",
              " '/tmp/cats_and_dogs_filtered/train/cats/cat.835.jpg',\n",
              " '/tmp/cats_and_dogs_filtered/train/cats/cat.251.jpg',\n",
              " '/tmp/cats_and_dogs_filtered/train/cats/cat.84.jpg',\n",
              " '/tmp/cats_and_dogs_filtered/train/cats/cat.304.jpg',\n",
              " '/tmp/cats_and_dogs_filtered/train/cats/cat.557.jpg',\n",
              " '/tmp/cats_and_dogs_filtered/train/cats/cat.676.jpg',\n",
              " '/tmp/cats_and_dogs_filtered/train/cats/cat.72.jpg',\n",
              " '/tmp/cats_and_dogs_filtered/train/cats/cat.902.jpg',\n",
              " '/tmp/cats_and_dogs_filtered/train/cats/cat.16.jpg',\n",
              " '/tmp/cats_and_dogs_filtered/train/cats/cat.69.jpg',\n",
              " '/tmp/cats_and_dogs_filtered/train/cats/cat.848.jpg',\n",
              " '/tmp/cats_and_dogs_filtered/train/cats/cat.197.jpg',\n",
              " '/tmp/cats_and_dogs_filtered/train/cats/cat.302.jpg',\n",
              " '/tmp/cats_and_dogs_filtered/train/cats/cat.484.jpg',\n",
              " '/tmp/cats_and_dogs_filtered/train/cats/cat.659.jpg',\n",
              " '/tmp/cats_and_dogs_filtered/train/cats/cat.824.jpg',\n",
              " '/tmp/cats_and_dogs_filtered/train/cats/cat.993.jpg',\n",
              " '/tmp/cats_and_dogs_filtered/train/cats/cat.467.jpg',\n",
              " '/tmp/cats_and_dogs_filtered/train/cats/cat.294.jpg',\n",
              " '/tmp/cats_and_dogs_filtered/train/cats/cat.425.jpg',\n",
              " '/tmp/cats_and_dogs_filtered/train/cats/cat.147.jpg',\n",
              " '/tmp/cats_and_dogs_filtered/train/cats/cat.238.jpg',\n",
              " '/tmp/cats_and_dogs_filtered/train/cats/cat.446.jpg',\n",
              " '/tmp/cats_and_dogs_filtered/train/cats/cat.800.jpg',\n",
              " '/tmp/cats_and_dogs_filtered/train/cats/cat.989.jpg',\n",
              " '/tmp/cats_and_dogs_filtered/train/cats/cat.353.jpg',\n",
              " '/tmp/cats_and_dogs_filtered/train/cats/cat.260.jpg',\n",
              " '/tmp/cats_and_dogs_filtered/train/cats/cat.542.jpg',\n",
              " '/tmp/cats_and_dogs_filtered/train/cats/cat.110.jpg',\n",
              " '/tmp/cats_and_dogs_filtered/train/cats/cat.980.jpg',\n",
              " '/tmp/cats_and_dogs_filtered/train/cats/cat.502.jpg',\n",
              " '/tmp/cats_and_dogs_filtered/train/cats/cat.624.jpg',\n",
              " '/tmp/cats_and_dogs_filtered/train/cats/cat.884.jpg',\n",
              " '/tmp/cats_and_dogs_filtered/train/cats/cat.142.jpg',\n",
              " '/tmp/cats_and_dogs_filtered/train/cats/cat.96.jpg',\n",
              " '/tmp/cats_and_dogs_filtered/train/cats/cat.857.jpg',\n",
              " '/tmp/cats_and_dogs_filtered/train/cats/cat.477.jpg',\n",
              " '/tmp/cats_and_dogs_filtered/train/cats/cat.407.jpg',\n",
              " '/tmp/cats_and_dogs_filtered/train/cats/cat.135.jpg',\n",
              " '/tmp/cats_and_dogs_filtered/train/cats/cat.924.jpg',\n",
              " '/tmp/cats_and_dogs_filtered/train/cats/cat.524.jpg',\n",
              " '/tmp/cats_and_dogs_filtered/train/cats/cat.334.jpg',\n",
              " '/tmp/cats_and_dogs_filtered/train/cats/cat.26.jpg',\n",
              " '/tmp/cats_and_dogs_filtered/train/cats/cat.522.jpg',\n",
              " '/tmp/cats_and_dogs_filtered/train/cats/cat.391.jpg',\n",
              " '/tmp/cats_and_dogs_filtered/train/cats/cat.102.jpg',\n",
              " '/tmp/cats_and_dogs_filtered/train/cats/cat.912.jpg',\n",
              " '/tmp/cats_and_dogs_filtered/train/cats/cat.617.jpg',\n",
              " '/tmp/cats_and_dogs_filtered/train/cats/cat.609.jpg',\n",
              " '/tmp/cats_and_dogs_filtered/train/cats/cat.781.jpg',\n",
              " '/tmp/cats_and_dogs_filtered/train/cats/cat.744.jpg',\n",
              " '/tmp/cats_and_dogs_filtered/train/cats/cat.612.jpg',\n",
              " '/tmp/cats_and_dogs_filtered/train/cats/cat.124.jpg',\n",
              " '/tmp/cats_and_dogs_filtered/train/cats/cat.634.jpg',\n",
              " '/tmp/cats_and_dogs_filtered/train/cats/cat.650.jpg',\n",
              " '/tmp/cats_and_dogs_filtered/train/cats/cat.561.jpg',\n",
              " '/tmp/cats_and_dogs_filtered/train/cats/cat.549.jpg',\n",
              " '/tmp/cats_and_dogs_filtered/train/cats/cat.486.jpg',\n",
              " '/tmp/cats_and_dogs_filtered/train/cats/cat.733.jpg',\n",
              " '/tmp/cats_and_dogs_filtered/train/cats/cat.504.jpg',\n",
              " '/tmp/cats_and_dogs_filtered/train/cats/cat.106.jpg',\n",
              " '/tmp/cats_and_dogs_filtered/train/cats/cat.513.jpg',\n",
              " '/tmp/cats_and_dogs_filtered/train/cats/cat.421.jpg',\n",
              " '/tmp/cats_and_dogs_filtered/train/cats/cat.240.jpg',\n",
              " '/tmp/cats_and_dogs_filtered/train/cats/cat.893.jpg',\n",
              " '/tmp/cats_and_dogs_filtered/train/cats/cat.327.jpg',\n",
              " '/tmp/cats_and_dogs_filtered/train/cats/cat.285.jpg',\n",
              " '/tmp/cats_and_dogs_filtered/train/cats/cat.462.jpg',\n",
              " '/tmp/cats_and_dogs_filtered/train/cats/cat.12.jpg',\n",
              " '/tmp/cats_and_dogs_filtered/train/cats/cat.234.jpg',\n",
              " '/tmp/cats_and_dogs_filtered/train/cats/cat.150.jpg',\n",
              " '/tmp/cats_and_dogs_filtered/train/cats/cat.672.jpg',\n",
              " '/tmp/cats_and_dogs_filtered/train/cats/cat.99.jpg',\n",
              " '/tmp/cats_and_dogs_filtered/train/cats/cat.645.jpg',\n",
              " '/tmp/cats_and_dogs_filtered/train/cats/cat.348.jpg',\n",
              " '/tmp/cats_and_dogs_filtered/train/cats/cat.323.jpg',\n",
              " '/tmp/cats_and_dogs_filtered/train/cats/cat.388.jpg',\n",
              " '/tmp/cats_and_dogs_filtered/train/cats/cat.763.jpg',\n",
              " '/tmp/cats_and_dogs_filtered/train/cats/cat.756.jpg',\n",
              " '/tmp/cats_and_dogs_filtered/train/cats/cat.374.jpg',\n",
              " '/tmp/cats_and_dogs_filtered/train/cats/cat.869.jpg',\n",
              " '/tmp/cats_and_dogs_filtered/train/cats/cat.925.jpg',\n",
              " '/tmp/cats_and_dogs_filtered/train/cats/cat.201.jpg',\n",
              " '/tmp/cats_and_dogs_filtered/train/cats/cat.306.jpg',\n",
              " '/tmp/cats_and_dogs_filtered/train/cats/cat.295.jpg',\n",
              " '/tmp/cats_and_dogs_filtered/train/cats/cat.752.jpg',\n",
              " '/tmp/cats_and_dogs_filtered/train/cats/cat.181.jpg',\n",
              " '/tmp/cats_and_dogs_filtered/train/cats/cat.50.jpg',\n",
              " '/tmp/cats_and_dogs_filtered/train/cats/cat.436.jpg',\n",
              " '/tmp/cats_and_dogs_filtered/train/cats/cat.330.jpg',\n",
              " '/tmp/cats_and_dogs_filtered/train/cats/cat.476.jpg',\n",
              " '/tmp/cats_and_dogs_filtered/train/cats/cat.20.jpg',\n",
              " '/tmp/cats_and_dogs_filtered/train/cats/cat.839.jpg',\n",
              " '/tmp/cats_and_dogs_filtered/train/cats/cat.408.jpg',\n",
              " '/tmp/cats_and_dogs_filtered/train/cats/cat.159.jpg',\n",
              " '/tmp/cats_and_dogs_filtered/train/cats/cat.729.jpg',\n",
              " '/tmp/cats_and_dogs_filtered/train/cats/cat.838.jpg',\n",
              " '/tmp/cats_and_dogs_filtered/train/cats/cat.815.jpg',\n",
              " '/tmp/cats_and_dogs_filtered/train/cats/cat.378.jpg',\n",
              " '/tmp/cats_and_dogs_filtered/train/cats/cat.228.jpg',\n",
              " '/tmp/cats_and_dogs_filtered/train/cats/cat.7.jpg',\n",
              " '/tmp/cats_and_dogs_filtered/train/cats/cat.951.jpg',\n",
              " '/tmp/cats_and_dogs_filtered/train/cats/cat.193.jpg',\n",
              " '/tmp/cats_and_dogs_filtered/train/cats/cat.140.jpg',\n",
              " '/tmp/cats_and_dogs_filtered/train/cats/cat.997.jpg',\n",
              " '/tmp/cats_and_dogs_filtered/train/cats/cat.510.jpg',\n",
              " '/tmp/cats_and_dogs_filtered/train/cats/cat.909.jpg',\n",
              " '/tmp/cats_and_dogs_filtered/train/cats/cat.455.jpg',\n",
              " '/tmp/cats_and_dogs_filtered/train/cats/cat.338.jpg',\n",
              " '/tmp/cats_and_dogs_filtered/train/cats/cat.958.jpg',\n",
              " '/tmp/cats_and_dogs_filtered/train/cats/cat.723.jpg',\n",
              " '/tmp/cats_and_dogs_filtered/train/cats/cat.177.jpg',\n",
              " '/tmp/cats_and_dogs_filtered/train/cats/cat.666.jpg',\n",
              " '/tmp/cats_and_dogs_filtered/train/cats/cat.862.jpg',\n",
              " '/tmp/cats_and_dogs_filtered/train/cats/cat.699.jpg',\n",
              " '/tmp/cats_and_dogs_filtered/train/cats/cat.769.jpg',\n",
              " '/tmp/cats_and_dogs_filtered/train/cats/cat.417.jpg',\n",
              " '/tmp/cats_and_dogs_filtered/train/cats/cat.382.jpg',\n",
              " '/tmp/cats_and_dogs_filtered/train/cats/cat.185.jpg',\n",
              " '/tmp/cats_and_dogs_filtered/train/cats/cat.303.jpg',\n",
              " '/tmp/cats_and_dogs_filtered/train/cats/cat.30.jpg',\n",
              " '/tmp/cats_and_dogs_filtered/train/cats/cat.536.jpg',\n",
              " '/tmp/cats_and_dogs_filtered/train/cats/cat.452.jpg',\n",
              " '/tmp/cats_and_dogs_filtered/train/cats/cat.985.jpg',\n",
              " '/tmp/cats_and_dogs_filtered/train/cats/cat.680.jpg',\n",
              " '/tmp/cats_and_dogs_filtered/train/cats/cat.362.jpg',\n",
              " '/tmp/cats_and_dogs_filtered/train/cats/cat.414.jpg',\n",
              " '/tmp/cats_and_dogs_filtered/train/cats/cat.552.jpg',\n",
              " '/tmp/cats_and_dogs_filtered/train/cats/cat.191.jpg',\n",
              " '/tmp/cats_and_dogs_filtered/train/cats/cat.987.jpg',\n",
              " '/tmp/cats_and_dogs_filtered/train/cats/cat.963.jpg',\n",
              " '/tmp/cats_and_dogs_filtered/train/cats/cat.712.jpg',\n",
              " '/tmp/cats_and_dogs_filtered/train/cats/cat.90.jpg',\n",
              " '/tmp/cats_and_dogs_filtered/train/cats/cat.628.jpg',\n",
              " '/tmp/cats_and_dogs_filtered/train/cats/cat.479.jpg',\n",
              " '/tmp/cats_and_dogs_filtered/train/cats/cat.305.jpg',\n",
              " '/tmp/cats_and_dogs_filtered/train/cats/cat.107.jpg',\n",
              " '/tmp/cats_and_dogs_filtered/train/cats/cat.675.jpg',\n",
              " '/tmp/cats_and_dogs_filtered/train/cats/cat.111.jpg',\n",
              " '/tmp/cats_and_dogs_filtered/train/cats/cat.768.jpg',\n",
              " '/tmp/cats_and_dogs_filtered/train/cats/cat.849.jpg',\n",
              " '/tmp/cats_and_dogs_filtered/train/cats/cat.339.jpg',\n",
              " '/tmp/cats_and_dogs_filtered/train/cats/cat.313.jpg',\n",
              " '/tmp/cats_and_dogs_filtered/train/cats/cat.655.jpg',\n",
              " '/tmp/cats_and_dogs_filtered/train/cats/cat.286.jpg',\n",
              " '/tmp/cats_and_dogs_filtered/train/cats/cat.826.jpg',\n",
              " '/tmp/cats_and_dogs_filtered/train/cats/cat.714.jpg',\n",
              " '/tmp/cats_and_dogs_filtered/train/cats/cat.696.jpg',\n",
              " '/tmp/cats_and_dogs_filtered/train/cats/cat.358.jpg',\n",
              " '/tmp/cats_and_dogs_filtered/train/cats/cat.649.jpg',\n",
              " '/tmp/cats_and_dogs_filtered/train/cats/cat.376.jpg',\n",
              " '/tmp/cats_and_dogs_filtered/train/cats/cat.921.jpg',\n",
              " '/tmp/cats_and_dogs_filtered/train/cats/cat.610.jpg',\n",
              " '/tmp/cats_and_dogs_filtered/train/cats/cat.371.jpg',\n",
              " '/tmp/cats_and_dogs_filtered/train/cats/cat.833.jpg',\n",
              " '/tmp/cats_and_dogs_filtered/train/cats/cat.903.jpg',\n",
              " '/tmp/cats_and_dogs_filtered/train/cats/cat.710.jpg',\n",
              " '/tmp/cats_and_dogs_filtered/train/cats/cat.92.jpg',\n",
              " '/tmp/cats_and_dogs_filtered/train/cats/cat.725.jpg',\n",
              " '/tmp/cats_and_dogs_filtered/train/cats/cat.244.jpg',\n",
              " '/tmp/cats_and_dogs_filtered/train/cats/cat.636.jpg',\n",
              " '/tmp/cats_and_dogs_filtered/train/cats/cat.629.jpg',\n",
              " '/tmp/cats_and_dogs_filtered/train/cats/cat.784.jpg',\n",
              " '/tmp/cats_and_dogs_filtered/train/cats/cat.200.jpg',\n",
              " '/tmp/cats_and_dogs_filtered/train/cats/cat.183.jpg',\n",
              " '/tmp/cats_and_dogs_filtered/train/cats/cat.36.jpg',\n",
              " '/tmp/cats_and_dogs_filtered/train/cats/cat.176.jpg',\n",
              " '/tmp/cats_and_dogs_filtered/train/cats/cat.717.jpg',\n",
              " '/tmp/cats_and_dogs_filtered/train/cats/cat.497.jpg',\n",
              " '/tmp/cats_and_dogs_filtered/train/cats/cat.837.jpg',\n",
              " '/tmp/cats_and_dogs_filtered/train/cats/cat.870.jpg',\n",
              " '/tmp/cats_and_dogs_filtered/train/cats/cat.613.jpg',\n",
              " '/tmp/cats_and_dogs_filtered/train/cats/cat.274.jpg',\n",
              " '/tmp/cats_and_dogs_filtered/train/cats/cat.501.jpg',\n",
              " '/tmp/cats_and_dogs_filtered/train/cats/cat.336.jpg',\n",
              " '/tmp/cats_and_dogs_filtered/train/cats/cat.791.jpg',\n",
              " '/tmp/cats_and_dogs_filtered/train/cats/cat.366.jpg',\n",
              " '/tmp/cats_and_dogs_filtered/train/cats/cat.254.jpg',\n",
              " '/tmp/cats_and_dogs_filtered/train/cats/cat.967.jpg',\n",
              " '/tmp/cats_and_dogs_filtered/train/cats/cat.75.jpg',\n",
              " '/tmp/cats_and_dogs_filtered/train/cats/cat.54.jpg',\n",
              " '/tmp/cats_and_dogs_filtered/train/cats/cat.481.jpg',\n",
              " '/tmp/cats_and_dogs_filtered/train/cats/cat.337.jpg',\n",
              " '/tmp/cats_and_dogs_filtered/train/cats/cat.46.jpg',\n",
              " '/tmp/cats_and_dogs_filtered/train/cats/cat.139.jpg',\n",
              " '/tmp/cats_and_dogs_filtered/train/cats/cat.560.jpg',\n",
              " '/tmp/cats_and_dogs_filtered/train/cats/cat.217.jpg',\n",
              " '/tmp/cats_and_dogs_filtered/train/cats/cat.637.jpg',\n",
              " '/tmp/cats_and_dogs_filtered/train/cats/cat.280.jpg',\n",
              " '/tmp/cats_and_dogs_filtered/train/cats/cat.773.jpg',\n",
              " '/tmp/cats_and_dogs_filtered/train/cats/cat.433.jpg',\n",
              " '/tmp/cats_and_dogs_filtered/train/cats/cat.852.jpg',\n",
              " '/tmp/cats_and_dogs_filtered/train/cats/cat.493.jpg',\n",
              " '/tmp/cats_and_dogs_filtered/train/cats/cat.320.jpg',\n",
              " '/tmp/cats_and_dogs_filtered/train/cats/cat.439.jpg',\n",
              " '/tmp/cats_and_dogs_filtered/train/cats/cat.27.jpg',\n",
              " '/tmp/cats_and_dogs_filtered/train/cats/cat.551.jpg',\n",
              " '/tmp/cats_and_dogs_filtered/train/cats/cat.689.jpg',\n",
              " '/tmp/cats_and_dogs_filtered/train/cats/cat.858.jpg',\n",
              " '/tmp/cats_and_dogs_filtered/train/cats/cat.694.jpg',\n",
              " '/tmp/cats_and_dogs_filtered/train/cats/cat.928.jpg',\n",
              " '/tmp/cats_and_dogs_filtered/train/cats/cat.438.jpg',\n",
              " '/tmp/cats_and_dogs_filtered/train/cats/cat.516.jpg',\n",
              " '/tmp/cats_and_dogs_filtered/train/cats/cat.577.jpg',\n",
              " '/tmp/cats_and_dogs_filtered/train/cats/cat.174.jpg',\n",
              " '/tmp/cats_and_dogs_filtered/train/cats/cat.500.jpg',\n",
              " '/tmp/cats_and_dogs_filtered/train/cats/cat.443.jpg',\n",
              " '/tmp/cats_and_dogs_filtered/train/cats/cat.344.jpg',\n",
              " '/tmp/cats_and_dogs_filtered/train/cats/cat.567.jpg',\n",
              " '/tmp/cats_and_dogs_filtered/train/cats/cat.673.jpg',\n",
              " '/tmp/cats_and_dogs_filtered/train/cats/cat.29.jpg',\n",
              " '/tmp/cats_and_dogs_filtered/train/cats/cat.970.jpg',\n",
              " '/tmp/cats_and_dogs_filtered/train/cats/cat.576.jpg',\n",
              " '/tmp/cats_and_dogs_filtered/train/cats/cat.113.jpg',\n",
              " '/tmp/cats_and_dogs_filtered/train/cats/cat.665.jpg',\n",
              " '/tmp/cats_and_dogs_filtered/train/cats/cat.435.jpg',\n",
              " '/tmp/cats_and_dogs_filtered/train/cats/cat.114.jpg',\n",
              " '/tmp/cats_and_dogs_filtered/train/cats/cat.604.jpg',\n",
              " '/tmp/cats_and_dogs_filtered/train/cats/cat.693.jpg',\n",
              " '/tmp/cats_and_dogs_filtered/train/cats/cat.212.jpg',\n",
              " '/tmp/cats_and_dogs_filtered/train/cats/cat.211.jpg',\n",
              " '/tmp/cats_and_dogs_filtered/train/cats/cat.615.jpg',\n",
              " '/tmp/cats_and_dogs_filtered/train/cats/cat.646.jpg',\n",
              " '/tmp/cats_and_dogs_filtered/train/cats/cat.143.jpg',\n",
              " '/tmp/cats_and_dogs_filtered/train/cats/cat.13.jpg',\n",
              " '/tmp/cats_and_dogs_filtered/train/cats/cat.437.jpg',\n",
              " '/tmp/cats_and_dogs_filtered/train/cats/cat.45.jpg',\n",
              " '/tmp/cats_and_dogs_filtered/train/cats/cat.153.jpg',\n",
              " '/tmp/cats_and_dogs_filtered/train/cats/cat.447.jpg',\n",
              " '/tmp/cats_and_dogs_filtered/train/cats/cat.994.jpg',\n",
              " '/tmp/cats_and_dogs_filtered/train/cats/cat.37.jpg',\n",
              " '/tmp/cats_and_dogs_filtered/train/cats/cat.235.jpg',\n",
              " '/tmp/cats_and_dogs_filtered/train/cats/cat.755.jpg',\n",
              " '/tmp/cats_and_dogs_filtered/train/cats/cat.1.jpg',\n",
              " '/tmp/cats_and_dogs_filtered/train/cats/cat.230.jpg',\n",
              " '/tmp/cats_and_dogs_filtered/train/cats/cat.34.jpg',\n",
              " '/tmp/cats_and_dogs_filtered/train/cats/cat.457.jpg',\n",
              " '/tmp/cats_and_dogs_filtered/train/cats/cat.889.jpg',\n",
              " '/tmp/cats_and_dogs_filtered/train/cats/cat.44.jpg',\n",
              " '/tmp/cats_and_dogs_filtered/train/cats/cat.631.jpg',\n",
              " '/tmp/cats_and_dogs_filtered/train/cats/cat.267.jpg',\n",
              " '/tmp/cats_and_dogs_filtered/train/cats/cat.41.jpg',\n",
              " '/tmp/cats_and_dogs_filtered/train/cats/cat.315.jpg',\n",
              " '/tmp/cats_and_dogs_filtered/train/cats/cat.896.jpg',\n",
              " '/tmp/cats_and_dogs_filtered/train/cats/cat.346.jpg',\n",
              " '/tmp/cats_and_dogs_filtered/train/cats/cat.882.jpg',\n",
              " '/tmp/cats_and_dogs_filtered/train/cats/cat.329.jpg',\n",
              " '/tmp/cats_and_dogs_filtered/train/cats/cat.600.jpg',\n",
              " '/tmp/cats_and_dogs_filtered/train/cats/cat.899.jpg',\n",
              " '/tmp/cats_and_dogs_filtered/train/cats/cat.373.jpg',\n",
              " '/tmp/cats_and_dogs_filtered/train/cats/cat.173.jpg',\n",
              " '/tmp/cats_and_dogs_filtered/train/cats/cat.550.jpg',\n",
              " '/tmp/cats_and_dogs_filtered/train/cats/cat.475.jpg',\n",
              " '/tmp/cats_and_dogs_filtered/train/cats/cat.933.jpg',\n",
              " '/tmp/cats_and_dogs_filtered/train/cats/cat.97.jpg',\n",
              " '/tmp/cats_and_dogs_filtered/train/cats/cat.937.jpg',\n",
              " '/tmp/cats_and_dogs_filtered/train/cats/cat.309.jpg',\n",
              " '/tmp/cats_and_dogs_filtered/train/cats/cat.322.jpg',\n",
              " '/tmp/cats_and_dogs_filtered/train/cats/cat.8.jpg',\n",
              " '/tmp/cats_and_dogs_filtered/train/cats/cat.764.jpg',\n",
              " '/tmp/cats_and_dogs_filtered/train/cats/cat.146.jpg',\n",
              " '/tmp/cats_and_dogs_filtered/train/cats/cat.647.jpg',\n",
              " '/tmp/cats_and_dogs_filtered/train/cats/cat.71.jpg',\n",
              " '/tmp/cats_and_dogs_filtered/train/cats/cat.214.jpg',\n",
              " '/tmp/cats_and_dogs_filtered/train/cats/cat.894.jpg',\n",
              " '/tmp/cats_and_dogs_filtered/train/cats/cat.735.jpg',\n",
              " '/tmp/cats_and_dogs_filtered/train/cats/cat.931.jpg',\n",
              " '/tmp/cats_and_dogs_filtered/train/cats/cat.381.jpg',\n",
              " '/tmp/cats_and_dogs_filtered/train/cats/cat.998.jpg',\n",
              " '/tmp/cats_and_dogs_filtered/train/cats/cat.874.jpg',\n",
              " '/tmp/cats_and_dogs_filtered/train/cats/cat.83.jpg',\n",
              " '/tmp/cats_and_dogs_filtered/train/cats/cat.907.jpg',\n",
              " '/tmp/cats_and_dogs_filtered/train/cats/cat.969.jpg',\n",
              " '/tmp/cats_and_dogs_filtered/train/cats/cat.674.jpg',\n",
              " '/tmp/cats_and_dogs_filtered/train/cats/cat.771.jpg',\n",
              " '/tmp/cats_and_dogs_filtered/train/cats/cat.661.jpg',\n",
              " '/tmp/cats_and_dogs_filtered/train/cats/cat.770.jpg',\n",
              " '/tmp/cats_and_dogs_filtered/train/cats/cat.402.jpg',\n",
              " '/tmp/cats_and_dogs_filtered/train/cats/cat.268.jpg',\n",
              " '/tmp/cats_and_dogs_filtered/train/cats/cat.505.jpg',\n",
              " '/tmp/cats_and_dogs_filtered/train/cats/cat.813.jpg',\n",
              " '/tmp/cats_and_dogs_filtered/train/cats/cat.935.jpg',\n",
              " '/tmp/cats_and_dogs_filtered/train/cats/cat.521.jpg',\n",
              " '/tmp/cats_and_dogs_filtered/train/cats/cat.855.jpg',\n",
              " '/tmp/cats_and_dogs_filtered/train/cats/cat.795.jpg',\n",
              " '/tmp/cats_and_dogs_filtered/train/cats/cat.765.jpg',\n",
              " '/tmp/cats_and_dogs_filtered/train/cats/cat.116.jpg',\n",
              " '/tmp/cats_and_dogs_filtered/train/cats/cat.246.jpg',\n",
              " '/tmp/cats_and_dogs_filtered/train/cats/cat.310.jpg',\n",
              " '/tmp/cats_and_dogs_filtered/train/cats/cat.165.jpg',\n",
              " '/tmp/cats_and_dogs_filtered/train/cats/cat.584.jpg',\n",
              " '/tmp/cats_and_dogs_filtered/train/cats/cat.750.jpg',\n",
              " '/tmp/cats_and_dogs_filtered/train/cats/cat.6.jpg',\n",
              " '/tmp/cats_and_dogs_filtered/train/cats/cat.298.jpg',\n",
              " '/tmp/cats_and_dogs_filtered/train/cats/cat.906.jpg',\n",
              " '/tmp/cats_and_dogs_filtered/train/cats/cat.883.jpg',\n",
              " '/tmp/cats_and_dogs_filtered/train/cats/cat.532.jpg',\n",
              " '/tmp/cats_and_dogs_filtered/train/cats/cat.192.jpg',\n",
              " '/tmp/cats_and_dogs_filtered/train/cats/cat.413.jpg',\n",
              " '/tmp/cats_and_dogs_filtered/train/cats/cat.797.jpg',\n",
              " '/tmp/cats_and_dogs_filtered/train/cats/cat.489.jpg',\n",
              " '/tmp/cats_and_dogs_filtered/train/cats/cat.973.jpg',\n",
              " '/tmp/cats_and_dogs_filtered/train/cats/cat.49.jpg',\n",
              " '/tmp/cats_and_dogs_filtered/train/cats/cat.70.jpg',\n",
              " '/tmp/cats_and_dogs_filtered/train/cats/cat.352.jpg',\n",
              " '/tmp/cats_and_dogs_filtered/train/cats/cat.144.jpg',\n",
              " '/tmp/cats_and_dogs_filtered/train/cats/cat.722.jpg',\n",
              " '/tmp/cats_and_dogs_filtered/train/cats/cat.361.jpg',\n",
              " '/tmp/cats_and_dogs_filtered/train/cats/cat.307.jpg',\n",
              " '/tmp/cats_and_dogs_filtered/train/cats/cat.278.jpg',\n",
              " '/tmp/cats_and_dogs_filtered/train/cats/cat.454.jpg',\n",
              " '/tmp/cats_and_dogs_filtered/train/cats/cat.290.jpg',\n",
              " '/tmp/cats_and_dogs_filtered/train/cats/cat.68.jpg',\n",
              " '/tmp/cats_and_dogs_filtered/train/cats/cat.241.jpg',\n",
              " '/tmp/cats_and_dogs_filtered/train/cats/cat.478.jpg',\n",
              " '/tmp/cats_and_dogs_filtered/train/cats/cat.975.jpg',\n",
              " '/tmp/cats_and_dogs_filtered/train/cats/cat.547.jpg',\n",
              " '/tmp/cats_and_dogs_filtered/train/cats/cat.804.jpg',\n",
              " '/tmp/cats_and_dogs_filtered/train/cats/cat.603.jpg',\n",
              " '/tmp/cats_and_dogs_filtered/train/cats/cat.399.jpg',\n",
              " '/tmp/cats_and_dogs_filtered/train/cats/cat.292.jpg',\n",
              " '/tmp/cats_and_dogs_filtered/train/cats/cat.854.jpg',\n",
              " '/tmp/cats_and_dogs_filtered/train/cats/cat.671.jpg',\n",
              " '/tmp/cats_and_dogs_filtered/train/cats/cat.43.jpg',\n",
              " '/tmp/cats_and_dogs_filtered/train/cats/cat.818.jpg',\n",
              " '/tmp/cats_and_dogs_filtered/train/cats/cat.115.jpg',\n",
              " '/tmp/cats_and_dogs_filtered/train/cats/cat.616.jpg',\n",
              " '/tmp/cats_and_dogs_filtered/train/cats/cat.530.jpg',\n",
              " '/tmp/cats_and_dogs_filtered/train/cats/cat.927.jpg',\n",
              " '/tmp/cats_and_dogs_filtered/train/cats/cat.227.jpg',\n",
              " '/tmp/cats_and_dogs_filtered/train/cats/cat.777.jpg',\n",
              " '/tmp/cats_and_dogs_filtered/train/cats/cat.774.jpg',\n",
              " '/tmp/cats_and_dogs_filtered/train/cats/cat.783.jpg',\n",
              " '/tmp/cats_and_dogs_filtered/train/cats/cat.245.jpg',\n",
              " '/tmp/cats_and_dogs_filtered/train/cats/cat.456.jpg',\n",
              " '/tmp/cats_and_dogs_filtered/train/cats/cat.73.jpg',\n",
              " '/tmp/cats_and_dogs_filtered/train/cats/cat.640.jpg',\n",
              " '/tmp/cats_and_dogs_filtered/train/cats/cat.23.jpg',\n",
              " '/tmp/cats_and_dogs_filtered/train/cats/cat.180.jpg',\n",
              " '/tmp/cats_and_dogs_filtered/train/cats/cat.59.jpg',\n",
              " '/tmp/cats_and_dogs_filtered/train/cats/cat.136.jpg',\n",
              " '/tmp/cats_and_dogs_filtered/train/cats/cat.581.jpg',\n",
              " '/tmp/cats_and_dogs_filtered/train/cats/cat.225.jpg',\n",
              " '/tmp/cats_and_dogs_filtered/train/cats/cat.121.jpg',\n",
              " '/tmp/cats_and_dogs_filtered/train/cats/cat.341.jpg',\n",
              " '/tmp/cats_and_dogs_filtered/train/cats/cat.347.jpg',\n",
              " '/tmp/cats_and_dogs_filtered/train/cats/cat.259.jpg',\n",
              " '/tmp/cats_and_dogs_filtered/train/cats/cat.890.jpg',\n",
              " '/tmp/cats_and_dogs_filtered/train/cats/cat.843.jpg',\n",
              " '/tmp/cats_and_dogs_filtered/train/cats/cat.762.jpg',\n",
              " '/tmp/cats_and_dogs_filtered/train/cats/cat.793.jpg',\n",
              " '/tmp/cats_and_dogs_filtered/train/cats/cat.808.jpg',\n",
              " '/tmp/cats_and_dogs_filtered/train/cats/cat.845.jpg',\n",
              " '/tmp/cats_and_dogs_filtered/train/cats/cat.972.jpg',\n",
              " '/tmp/cats_and_dogs_filtered/train/cats/cat.943.jpg',\n",
              " '/tmp/cats_and_dogs_filtered/train/cats/cat.949.jpg',\n",
              " '/tmp/cats_and_dogs_filtered/train/cats/cat.684.jpg',\n",
              " '/tmp/cats_and_dogs_filtered/train/cats/cat.38.jpg',\n",
              " '/tmp/cats_and_dogs_filtered/train/cats/cat.635.jpg',\n",
              " '/tmp/cats_and_dogs_filtered/train/cats/cat.88.jpg',\n",
              " '/tmp/cats_and_dogs_filtered/train/cats/cat.270.jpg',\n",
              " '/tmp/cats_and_dogs_filtered/train/cats/cat.962.jpg',\n",
              " '/tmp/cats_and_dogs_filtered/train/cats/cat.222.jpg',\n",
              " '/tmp/cats_and_dogs_filtered/train/cats/cat.483.jpg',\n",
              " '/tmp/cats_and_dogs_filtered/train/cats/cat.247.jpg',\n",
              " '/tmp/cats_and_dogs_filtered/train/cats/cat.78.jpg',\n",
              " '/tmp/cats_and_dogs_filtered/train/cats/cat.891.jpg',\n",
              " '/tmp/cats_and_dogs_filtered/train/cats/cat.901.jpg',\n",
              " '/tmp/cats_and_dogs_filtered/train/cats/cat.119.jpg',\n",
              " '/tmp/cats_and_dogs_filtered/train/cats/cat.416.jpg',\n",
              " '/tmp/cats_and_dogs_filtered/train/cats/cat.370.jpg',\n",
              " '/tmp/cats_and_dogs_filtered/train/cats/cat.3.jpg',\n",
              " '/tmp/cats_and_dogs_filtered/train/cats/cat.155.jpg',\n",
              " '/tmp/cats_and_dogs_filtered/train/cats/cat.831.jpg',\n",
              " '/tmp/cats_and_dogs_filtered/train/cats/cat.460.jpg',\n",
              " '/tmp/cats_and_dogs_filtered/train/cats/cat.15.jpg',\n",
              " '/tmp/cats_and_dogs_filtered/train/cats/cat.544.jpg',\n",
              " '/tmp/cats_and_dogs_filtered/train/cats/cat.702.jpg',\n",
              " '/tmp/cats_and_dogs_filtered/train/cats/cat.556.jpg',\n",
              " '/tmp/cats_and_dogs_filtered/train/cats/cat.776.jpg',\n",
              " '/tmp/cats_and_dogs_filtered/train/cats/cat.915.jpg',\n",
              " '/tmp/cats_and_dogs_filtered/train/cats/cat.886.jpg',\n",
              " '/tmp/cats_and_dogs_filtered/train/cats/cat.85.jpg',\n",
              " '/tmp/cats_and_dogs_filtered/train/cats/cat.509.jpg',\n",
              " '/tmp/cats_and_dogs_filtered/train/cats/cat.900.jpg',\n",
              " '/tmp/cats_and_dogs_filtered/train/cats/cat.206.jpg',\n",
              " '/tmp/cats_and_dogs_filtered/train/cats/cat.860.jpg',\n",
              " '/tmp/cats_and_dogs_filtered/train/cats/cat.957.jpg',\n",
              " '/tmp/cats_and_dogs_filtered/train/cats/cat.175.jpg',\n",
              " '/tmp/cats_and_dogs_filtered/train/cats/cat.453.jpg',\n",
              " '/tmp/cats_and_dogs_filtered/train/cats/cat.798.jpg',\n",
              " '/tmp/cats_and_dogs_filtered/train/cats/cat.63.jpg',\n",
              " '/tmp/cats_and_dogs_filtered/train/cats/cat.424.jpg',\n",
              " '/tmp/cats_and_dogs_filtered/train/cats/cat.316.jpg',\n",
              " '/tmp/cats_and_dogs_filtered/train/cats/cat.67.jpg',\n",
              " '/tmp/cats_and_dogs_filtered/train/cats/cat.261.jpg',\n",
              " '/tmp/cats_and_dogs_filtered/train/cats/cat.638.jpg',\n",
              " '/tmp/cats_and_dogs_filtered/train/cats/cat.350.jpg',\n",
              " '/tmp/cats_and_dogs_filtered/train/cats/cat.964.jpg',\n",
              " '/tmp/cats_and_dogs_filtered/train/cats/cat.875.jpg',\n",
              " '/tmp/cats_and_dogs_filtered/train/cats/cat.405.jpg',\n",
              " '/tmp/cats_and_dogs_filtered/train/cats/cat.942.jpg',\n",
              " '/tmp/cats_and_dogs_filtered/train/cats/cat.253.jpg',\n",
              " '/tmp/cats_and_dogs_filtered/train/cats/cat.579.jpg',\n",
              " '/tmp/cats_and_dogs_filtered/train/cats/cat.591.jpg',\n",
              " '/tmp/cats_and_dogs_filtered/train/cats/cat.406.jpg',\n",
              " '/tmp/cats_and_dogs_filtered/train/cats/cat.720.jpg',\n",
              " '/tmp/cats_and_dogs_filtered/train/cats/cat.790.jpg',\n",
              " '/tmp/cats_and_dogs_filtered/train/cats/cat.995.jpg',\n",
              " '/tmp/cats_and_dogs_filtered/train/cats/cat.474.jpg',\n",
              " '/tmp/cats_and_dogs_filtered/train/cats/cat.606.jpg',\n",
              " '/tmp/cats_and_dogs_filtered/train/cats/cat.589.jpg',\n",
              " '/tmp/cats_and_dogs_filtered/train/cats/cat.792.jpg',\n",
              " '/tmp/cats_and_dogs_filtered/train/cats/cat.390.jpg',\n",
              " '/tmp/cats_and_dogs_filtered/train/cats/cat.470.jpg',\n",
              " '/tmp/cats_and_dogs_filtered/train/cats/cat.264.jpg',\n",
              " '/tmp/cats_and_dogs_filtered/train/cats/cat.965.jpg',\n",
              " '/tmp/cats_and_dogs_filtered/train/cats/cat.79.jpg',\n",
              " '/tmp/cats_and_dogs_filtered/train/cats/cat.463.jpg',\n",
              " '/tmp/cats_and_dogs_filtered/train/cats/cat.163.jpg',\n",
              " '/tmp/cats_and_dogs_filtered/train/cats/cat.738.jpg',\n",
              " '/tmp/cats_and_dogs_filtered/train/cats/cat.95.jpg',\n",
              " '/tmp/cats_and_dogs_filtered/train/cats/cat.716.jpg',\n",
              " '/tmp/cats_and_dogs_filtered/train/cats/cat.105.jpg',\n",
              " '/tmp/cats_and_dogs_filtered/train/cats/cat.847.jpg',\n",
              " '/tmp/cats_and_dogs_filtered/train/cats/cat.850.jpg',\n",
              " '/tmp/cats_and_dogs_filtered/train/cats/cat.580.jpg',\n",
              " '/tmp/cats_and_dogs_filtered/train/cats/cat.979.jpg',\n",
              " '/tmp/cats_and_dogs_filtered/train/cats/cat.480.jpg',\n",
              " '/tmp/cats_and_dogs_filtered/train/cats/cat.9.jpg',\n",
              " '/tmp/cats_and_dogs_filtered/train/cats/cat.978.jpg',\n",
              " '/tmp/cats_and_dogs_filtered/train/cats/cat.761.jpg',\n",
              " '/tmp/cats_and_dogs_filtered/train/cats/cat.17.jpg',\n",
              " '/tmp/cats_and_dogs_filtered/train/cats/cat.210.jpg',\n",
              " '/tmp/cats_and_dogs_filtered/train/cats/cat.719.jpg',\n",
              " '/tmp/cats_and_dogs_filtered/train/cats/cat.654.jpg',\n",
              " '/tmp/cats_and_dogs_filtered/train/cats/cat.419.jpg',\n",
              " '/tmp/cats_and_dogs_filtered/train/cats/cat.335.jpg',\n",
              " '/tmp/cats_and_dogs_filtered/train/cats/cat.98.jpg',\n",
              " '/tmp/cats_and_dogs_filtered/train/cats/cat.968.jpg',\n",
              " '/tmp/cats_and_dogs_filtered/train/cats/cat.32.jpg',\n",
              " '/tmp/cats_and_dogs_filtered/train/cats/cat.656.jpg',\n",
              " '/tmp/cats_and_dogs_filtered/train/cats/cat.262.jpg',\n",
              " '/tmp/cats_and_dogs_filtered/train/cats/cat.748.jpg',\n",
              " '/tmp/cats_and_dogs_filtered/train/cats/cat.39.jpg',\n",
              " '/tmp/cats_and_dogs_filtered/train/cats/cat.349.jpg',\n",
              " '/tmp/cats_and_dogs_filtered/train/cats/cat.667.jpg',\n",
              " '/tmp/cats_and_dogs_filtered/train/cats/cat.861.jpg',\n",
              " '/tmp/cats_and_dogs_filtered/train/cats/cat.568.jpg',\n",
              " '/tmp/cats_and_dogs_filtered/train/cats/cat.100.jpg',\n",
              " '/tmp/cats_and_dogs_filtered/train/cats/cat.321.jpg',\n",
              " '/tmp/cats_and_dogs_filtered/train/cats/cat.76.jpg',\n",
              " '/tmp/cats_and_dogs_filtered/train/cats/cat.677.jpg',\n",
              " '/tmp/cats_and_dogs_filtered/train/cats/cat.830.jpg',\n",
              " '/tmp/cats_and_dogs_filtered/train/cats/cat.451.jpg',\n",
              " '/tmp/cats_and_dogs_filtered/train/cats/cat.741.jpg',\n",
              " '/tmp/cats_and_dogs_filtered/train/cats/cat.945.jpg',\n",
              " '/tmp/cats_and_dogs_filtered/train/cats/cat.535.jpg',\n",
              " '/tmp/cats_and_dogs_filtered/train/cats/cat.877.jpg',\n",
              " '/tmp/cats_and_dogs_filtered/train/cats/cat.314.jpg',\n",
              " '/tmp/cats_and_dogs_filtered/train/cats/cat.930.jpg',\n",
              " '/tmp/cats_and_dogs_filtered/train/cats/cat.796.jpg',\n",
              " '/tmp/cats_and_dogs_filtered/train/cats/cat.515.jpg',\n",
              " '/tmp/cats_and_dogs_filtered/train/cats/cat.93.jpg',\n",
              " '/tmp/cats_and_dogs_filtered/train/cats/cat.189.jpg',\n",
              " '/tmp/cats_and_dogs_filtered/train/cats/cat.324.jpg',\n",
              " '/tmp/cats_and_dogs_filtered/train/cats/cat.215.jpg',\n",
              " '/tmp/cats_and_dogs_filtered/train/cats/cat.319.jpg',\n",
              " '/tmp/cats_and_dogs_filtered/train/cats/cat.164.jpg',\n",
              " '/tmp/cats_and_dogs_filtered/train/cats/cat.137.jpg',\n",
              " '/tmp/cats_and_dogs_filtered/train/cats/cat.621.jpg',\n",
              " '/tmp/cats_and_dogs_filtered/train/cats/cat.715.jpg',\n",
              " '/tmp/cats_and_dogs_filtered/train/cats/cat.156.jpg',\n",
              " '/tmp/cats_and_dogs_filtered/train/cats/cat.411.jpg',\n",
              " '/tmp/cats_and_dogs_filtered/train/cats/cat.194.jpg',\n",
              " '/tmp/cats_and_dogs_filtered/train/cats/cat.545.jpg',\n",
              " '/tmp/cats_and_dogs_filtered/train/cats/cat.218.jpg',\n",
              " '/tmp/cats_and_dogs_filtered/train/cats/cat.981.jpg',\n",
              " '/tmp/cats_and_dogs_filtered/train/cats/cat.186.jpg',\n",
              " '/tmp/cats_and_dogs_filtered/train/cats/cat.578.jpg',\n",
              " '/tmp/cats_and_dogs_filtered/train/cats/cat.734.jpg',\n",
              " '/tmp/cats_and_dogs_filtered/train/cats/cat.605.jpg',\n",
              " '/tmp/cats_and_dogs_filtered/train/cats/cat.982.jpg',\n",
              " '/tmp/cats_and_dogs_filtered/train/cats/cat.944.jpg',\n",
              " '/tmp/cats_and_dogs_filtered/train/cats/cat.558.jpg',\n",
              " '/tmp/cats_and_dogs_filtered/train/cats/cat.713.jpg',\n",
              " '/tmp/cats_and_dogs_filtered/train/cats/cat.332.jpg',\n",
              " '/tmp/cats_and_dogs_filtered/train/cats/cat.820.jpg',\n",
              " '/tmp/cats_and_dogs_filtered/train/cats/cat.537.jpg',\n",
              " '/tmp/cats_and_dogs_filtered/train/cats/cat.644.jpg',\n",
              " '/tmp/cats_and_dogs_filtered/train/cats/cat.686.jpg',\n",
              " '/tmp/cats_and_dogs_filtered/train/cats/cat.184.jpg',\n",
              " '/tmp/cats_and_dogs_filtered/train/cats/cat.595.jpg',\n",
              " '/tmp/cats_and_dogs_filtered/train/cats/cat.326.jpg',\n",
              " '/tmp/cats_and_dogs_filtered/train/cats/cat.705.jpg',\n",
              " '/tmp/cats_and_dogs_filtered/train/cats/cat.778.jpg',\n",
              " '/tmp/cats_and_dogs_filtered/train/cats/cat.701.jpg',\n",
              " '/tmp/cats_and_dogs_filtered/train/cats/cat.2.jpg',\n",
              " '/tmp/cats_and_dogs_filtered/train/cats/cat.123.jpg',\n",
              " '/tmp/cats_and_dogs_filtered/train/cats/cat.572.jpg',\n",
              " '/tmp/cats_and_dogs_filtered/train/cats/cat.546.jpg',\n",
              " '/tmp/cats_and_dogs_filtered/train/cats/cat.485.jpg',\n",
              " '/tmp/cats_and_dogs_filtered/train/cats/cat.548.jpg',\n",
              " '/tmp/cats_and_dogs_filtered/train/cats/cat.608.jpg',\n",
              " '/tmp/cats_and_dogs_filtered/train/cats/cat.690.jpg',\n",
              " '/tmp/cats_and_dogs_filtered/train/cats/cat.866.jpg',\n",
              " '/tmp/cats_and_dogs_filtered/train/cats/cat.785.jpg',\n",
              " '/tmp/cats_and_dogs_filtered/train/cats/cat.626.jpg',\n",
              " '/tmp/cats_and_dogs_filtered/train/cats/cat.559.jpg',\n",
              " '/tmp/cats_and_dogs_filtered/train/cats/cat.806.jpg',\n",
              " '/tmp/cats_and_dogs_filtered/train/cats/cat.386.jpg',\n",
              " '/tmp/cats_and_dogs_filtered/train/cats/cat.602.jpg',\n",
              " '/tmp/cats_and_dogs_filtered/train/cats/cat.895.jpg',\n",
              " '/tmp/cats_and_dogs_filtered/train/cats/cat.423.jpg',\n",
              " '/tmp/cats_and_dogs_filtered/train/cats/cat.571.jpg',\n",
              " '/tmp/cats_and_dogs_filtered/train/cats/cat.586.jpg',\n",
              " '/tmp/cats_and_dogs_filtered/train/cats/cat.282.jpg',\n",
              " '/tmp/cats_and_dogs_filtered/train/cats/cat.469.jpg',\n",
              " '/tmp/cats_and_dogs_filtered/train/cats/cat.794.jpg',\n",
              " '/tmp/cats_and_dogs_filtered/train/cats/cat.375.jpg',\n",
              " '/tmp/cats_and_dogs_filtered/train/cats/cat.619.jpg',\n",
              " '/tmp/cats_and_dogs_filtered/train/cats/cat.823.jpg',\n",
              " '/tmp/cats_and_dogs_filtered/train/cats/cat.14.jpg',\n",
              " '/tmp/cats_and_dogs_filtered/train/cats/cat.639.jpg',\n",
              " '/tmp/cats_and_dogs_filtered/train/cats/cat.954.jpg',\n",
              " '/tmp/cats_and_dogs_filtered/train/cats/cat.287.jpg',\n",
              " '/tmp/cats_and_dogs_filtered/train/cats/cat.243.jpg',\n",
              " '/tmp/cats_and_dogs_filtered/train/cats/cat.508.jpg',\n",
              " '/tmp/cats_and_dogs_filtered/train/cats/cat.127.jpg',\n",
              " '/tmp/cats_and_dogs_filtered/train/cats/cat.317.jpg',\n",
              " '/tmp/cats_and_dogs_filtered/train/cats/cat.216.jpg',\n",
              " '/tmp/cats_and_dogs_filtered/train/cats/cat.753.jpg',\n",
              " '/tmp/cats_and_dogs_filtered/train/cats/cat.948.jpg',\n",
              " '/tmp/cats_and_dogs_filtered/train/cats/cat.816.jpg',\n",
              " '/tmp/cats_and_dogs_filtered/train/cats/cat.404.jpg',\n",
              " '/tmp/cats_and_dogs_filtered/train/cats/cat.814.jpg',\n",
              " '/tmp/cats_and_dogs_filtered/train/cats/cat.865.jpg',\n",
              " '/tmp/cats_and_dogs_filtered/train/cats/cat.132.jpg',\n",
              " '/tmp/cats_and_dogs_filtered/train/cats/cat.911.jpg',\n",
              " '/tmp/cats_and_dogs_filtered/train/cats/cat.232.jpg',\n",
              " '/tmp/cats_and_dogs_filtered/train/cats/cat.154.jpg',\n",
              " '/tmp/cats_and_dogs_filtered/train/cats/cat.459.jpg',\n",
              " '/tmp/cats_and_dogs_filtered/train/cats/cat.273.jpg',\n",
              " '/tmp/cats_and_dogs_filtered/train/cats/cat.40.jpg',\n",
              " '/tmp/cats_and_dogs_filtered/train/cats/cat.170.jpg',\n",
              " '/tmp/cats_and_dogs_filtered/train/cats/cat.514.jpg',\n",
              " '/tmp/cats_and_dogs_filtered/train/cats/cat.237.jpg',\n",
              " '/tmp/cats_and_dogs_filtered/train/cats/cat.432.jpg',\n",
              " '/tmp/cats_and_dogs_filtered/train/cats/cat.809.jpg',\n",
              " '/tmp/cats_and_dogs_filtered/train/cats/cat.171.jpg',\n",
              " '/tmp/cats_and_dogs_filtered/train/cats/cat.872.jpg',\n",
              " '/tmp/cats_and_dogs_filtered/train/cats/cat.527.jpg',\n",
              " '/tmp/cats_and_dogs_filtered/train/cats/cat.503.jpg',\n",
              " '/tmp/cats_and_dogs_filtered/train/cats/cat.0.jpg',\n",
              " '/tmp/cats_and_dogs_filtered/train/cats/cat.340.jpg',\n",
              " '/tmp/cats_and_dogs_filtered/train/cats/cat.178.jpg',\n",
              " '/tmp/cats_and_dogs_filtered/train/cats/cat.66.jpg',\n",
              " '/tmp/cats_and_dogs_filtered/train/cats/cat.499.jpg',\n",
              " '/tmp/cats_and_dogs_filtered/train/cats/cat.960.jpg',\n",
              " '/tmp/cats_and_dogs_filtered/train/cats/cat.383.jpg',\n",
              " '/tmp/cats_and_dogs_filtered/train/cats/cat.367.jpg',\n",
              " '/tmp/cats_and_dogs_filtered/train/cats/cat.692.jpg',\n",
              " '/tmp/cats_and_dogs_filtered/train/cats/cat.22.jpg',\n",
              " '/tmp/cats_and_dogs_filtered/train/cats/cat.996.jpg',\n",
              " '/tmp/cats_and_dogs_filtered/train/cats/cat.51.jpg',\n",
              " '/tmp/cats_and_dogs_filtered/train/cats/cat.807.jpg',\n",
              " '/tmp/cats_and_dogs_filtered/train/cats/cat.80.jpg',\n",
              " '/tmp/cats_and_dogs_filtered/train/cats/cat.128.jpg',\n",
              " '/tmp/cats_and_dogs_filtered/train/cats/cat.853.jpg',\n",
              " '/tmp/cats_and_dogs_filtered/train/cats/cat.461.jpg',\n",
              " '/tmp/cats_and_dogs_filtered/train/cats/cat.342.jpg',\n",
              " '/tmp/cats_and_dogs_filtered/train/cats/cat.393.jpg',\n",
              " '/tmp/cats_and_dogs_filtered/train/cats/cat.157.jpg',\n",
              " '/tmp/cats_and_dogs_filtered/train/cats/cat.718.jpg',\n",
              " '/tmp/cats_and_dogs_filtered/train/cats/cat.695.jpg',\n",
              " '/tmp/cats_and_dogs_filtered/train/cats/cat.691.jpg',\n",
              " '/tmp/cats_and_dogs_filtered/train/cats/cat.946.jpg',\n",
              " '/tmp/cats_and_dogs_filtered/train/cats/cat.913.jpg',\n",
              " '/tmp/cats_and_dogs_filtered/train/cats/cat.575.jpg',\n",
              " '/tmp/cats_and_dogs_filtered/train/cats/cat.368.jpg',\n",
              " '/tmp/cats_and_dogs_filtered/train/cats/cat.109.jpg',\n",
              " '/tmp/cats_and_dogs_filtered/train/cats/cat.130.jpg',\n",
              " '/tmp/cats_and_dogs_filtered/train/cats/cat.58.jpg',\n",
              " '/tmp/cats_and_dogs_filtered/train/cats/cat.681.jpg',\n",
              " '/tmp/cats_and_dogs_filtered/train/cats/cat.145.jpg',\n",
              " '/tmp/cats_and_dogs_filtered/train/cats/cat.523.jpg',\n",
              " '/tmp/cats_and_dogs_filtered/train/cats/cat.868.jpg',\n",
              " '/tmp/cats_and_dogs_filtered/train/cats/cat.700.jpg',\n",
              " '/tmp/cats_and_dogs_filtered/train/cats/cat.117.jpg',\n",
              " '/tmp/cats_and_dogs_filtered/train/cats/cat.641.jpg',\n",
              " '/tmp/cats_and_dogs_filtered/train/cats/cat.976.jpg',\n",
              " '/tmp/cats_and_dogs_filtered/train/cats/cat.704.jpg',\n",
              " '/tmp/cats_and_dogs_filtered/train/cats/cat.401.jpg',\n",
              " '/tmp/cats_and_dogs_filtered/train/cats/cat.392.jpg',\n",
              " '/tmp/cats_and_dogs_filtered/train/cats/cat.611.jpg',\n",
              " '/tmp/cats_and_dogs_filtered/train/cats/cat.62.jpg',\n",
              " '/tmp/cats_and_dogs_filtered/train/cats/cat.118.jpg',\n",
              " '/tmp/cats_and_dogs_filtered/train/cats/cat.35.jpg',\n",
              " '/tmp/cats_and_dogs_filtered/train/cats/cat.257.jpg',\n",
              " '/tmp/cats_and_dogs_filtered/train/cats/cat.660.jpg',\n",
              " '/tmp/cats_and_dogs_filtered/train/cats/cat.841.jpg',\n",
              " '/tmp/cats_and_dogs_filtered/train/cats/cat.698.jpg',\n",
              " '/tmp/cats_and_dogs_filtered/train/cats/cat.742.jpg',\n",
              " '/tmp/cats_and_dogs_filtered/train/cats/cat.196.jpg',\n",
              " '/tmp/cats_and_dogs_filtered/train/cats/cat.409.jpg',\n",
              " '/tmp/cats_and_dogs_filtered/train/cats/cat.148.jpg',\n",
              " '/tmp/cats_and_dogs_filtered/train/cats/cat.198.jpg',\n",
              " '/tmp/cats_and_dogs_filtered/train/cats/cat.662.jpg',\n",
              " '/tmp/cats_and_dogs_filtered/train/cats/cat.385.jpg',\n",
              " '/tmp/cats_and_dogs_filtered/train/cats/cat.276.jpg',\n",
              " '/tmp/cats_and_dogs_filtered/train/cats/cat.325.jpg',\n",
              " '/tmp/cats_and_dogs_filtered/train/cats/cat.620.jpg',\n",
              " '/tmp/cats_and_dogs_filtered/train/cats/cat.864.jpg',\n",
              " '/tmp/cats_and_dogs_filtered/train/cats/cat.518.jpg',\n",
              " '/tmp/cats_and_dogs_filtered/train/cats/cat.936.jpg',\n",
              " '/tmp/cats_and_dogs_filtered/train/cats/cat.766.jpg',\n",
              " '/tmp/cats_and_dogs_filtered/train/cats/cat.430.jpg',\n",
              " '/tmp/cats_and_dogs_filtered/train/cats/cat.598.jpg',\n",
              " '/tmp/cats_and_dogs_filtered/train/cats/cat.934.jpg',\n",
              " '/tmp/cats_and_dogs_filtered/train/cats/cat.663.jpg',\n",
              " '/tmp/cats_and_dogs_filtered/train/cats/cat.939.jpg',\n",
              " '/tmp/cats_and_dogs_filtered/train/cats/cat.873.jpg',\n",
              " '/tmp/cats_and_dogs_filtered/train/cats/cat.599.jpg',\n",
              " '/tmp/cats_and_dogs_filtered/train/cats/cat.739.jpg',\n",
              " '/tmp/cats_and_dogs_filtered/train/cats/cat.707.jpg',\n",
              " '/tmp/cats_and_dogs_filtered/train/cats/cat.65.jpg',\n",
              " '/tmp/cats_and_dogs_filtered/train/cats/cat.919.jpg',\n",
              " '/tmp/cats_and_dogs_filtered/train/cats/cat.233.jpg',\n",
              " '/tmp/cats_and_dogs_filtered/train/cats/cat.205.jpg',\n",
              " '/tmp/cats_and_dogs_filtered/train/cats/cat.422.jpg',\n",
              " '/tmp/cats_and_dogs_filtered/train/cats/cat.992.jpg',\n",
              " '/tmp/cats_and_dogs_filtered/train/cats/cat.149.jpg',\n",
              " '/tmp/cats_and_dogs_filtered/train/cats/cat.81.jpg',\n",
              " '/tmp/cats_and_dogs_filtered/train/cats/cat.991.jpg',\n",
              " '/tmp/cats_and_dogs_filtered/train/cats/cat.426.jpg',\n",
              " '/tmp/cats_and_dogs_filtered/train/cats/cat.255.jpg',\n",
              " '/tmp/cats_and_dogs_filtered/train/cats/cat.448.jpg',\n",
              " '/tmp/cats_and_dogs_filtered/train/cats/cat.627.jpg',\n",
              " '/tmp/cats_and_dogs_filtered/train/cats/cat.359.jpg',\n",
              " '/tmp/cats_and_dogs_filtered/train/cats/cat.252.jpg',\n",
              " '/tmp/cats_and_dogs_filtered/train/cats/cat.288.jpg',\n",
              " '/tmp/cats_and_dogs_filtered/train/cats/cat.817.jpg',\n",
              " '/tmp/cats_and_dogs_filtered/train/cats/cat.834.jpg',\n",
              " '/tmp/cats_and_dogs_filtered/train/cats/cat.256.jpg',\n",
              " '/tmp/cats_and_dogs_filtered/train/cats/cat.988.jpg',\n",
              " '/tmp/cats_and_dogs_filtered/train/cats/cat.959.jpg',\n",
              " '/tmp/cats_and_dogs_filtered/train/cats/cat.679.jpg',\n",
              " '/tmp/cats_and_dogs_filtered/train/cats/cat.229.jpg',\n",
              " '/tmp/cats_and_dogs_filtered/train/cats/cat.293.jpg',\n",
              " '/tmp/cats_and_dogs_filtered/train/cats/cat.682.jpg',\n",
              " '/tmp/cats_and_dogs_filtered/train/cats/cat.28.jpg',\n",
              " '/tmp/cats_and_dogs_filtered/train/cats/cat.531.jpg',\n",
              " '/tmp/cats_and_dogs_filtered/train/cats/cat.318.jpg',\n",
              " '/tmp/cats_and_dogs_filtered/train/cats/cat.685.jpg',\n",
              " '/tmp/cats_and_dogs_filtered/train/cats/cat.749.jpg',\n",
              " '/tmp/cats_and_dogs_filtered/train/cats/cat.221.jpg',\n",
              " '/tmp/cats_and_dogs_filtered/train/cats/cat.31.jpg',\n",
              " '/tmp/cats_and_dogs_filtered/train/cats/cat.277.jpg',\n",
              " '/tmp/cats_and_dogs_filtered/train/cats/cat.724.jpg',\n",
              " '/tmp/cats_and_dogs_filtered/train/cats/cat.101.jpg',\n",
              " '/tmp/cats_and_dogs_filtered/train/cats/cat.488.jpg',\n",
              " '/tmp/cats_and_dogs_filtered/train/cats/cat.410.jpg',\n",
              " '/tmp/cats_and_dogs_filtered/train/cats/cat.678.jpg',\n",
              " '/tmp/cats_and_dogs_filtered/train/cats/cat.271.jpg',\n",
              " '/tmp/cats_and_dogs_filtered/train/cats/cat.289.jpg',\n",
              " '/tmp/cats_and_dogs_filtered/train/cats/cat.726.jpg',\n",
              " '/tmp/cats_and_dogs_filtered/train/cats/cat.511.jpg',\n",
              " '/tmp/cats_and_dogs_filtered/train/cats/cat.566.jpg',\n",
              " '/tmp/cats_and_dogs_filtered/train/cats/cat.918.jpg',\n",
              " '/tmp/cats_and_dogs_filtered/train/cats/cat.618.jpg',\n",
              " '/tmp/cats_and_dogs_filtered/train/cats/cat.863.jpg',\n",
              " '/tmp/cats_and_dogs_filtered/train/cats/cat.706.jpg',\n",
              " '/tmp/cats_and_dogs_filtered/train/cats/cat.231.jpg',\n",
              " '/tmp/cats_and_dogs_filtered/train/cats/cat.878.jpg',\n",
              " '/tmp/cats_and_dogs_filtered/train/cats/cat.187.jpg',\n",
              " '/tmp/cats_and_dogs_filtered/train/cats/cat.208.jpg',\n",
              " '/tmp/cats_and_dogs_filtered/train/cats/cat.562.jpg',\n",
              " '/tmp/cats_and_dogs_filtered/train/cats/cat.512.jpg',\n",
              " '/tmp/cats_and_dogs_filtered/train/cats/cat.827.jpg',\n",
              " '/tmp/cats_and_dogs_filtered/train/cats/cat.18.jpg',\n",
              " '/tmp/cats_and_dogs_filtered/train/cats/cat.263.jpg',\n",
              " '/tmp/cats_and_dogs_filtered/train/cats/cat.250.jpg',\n",
              " '/tmp/cats_and_dogs_filtered/train/cats/cat.614.jpg',\n",
              " '/tmp/cats_and_dogs_filtered/train/cats/cat.587.jpg',\n",
              " '/tmp/cats_and_dogs_filtered/train/cats/cat.112.jpg',\n",
              " '/tmp/cats_and_dogs_filtered/train/cats/cat.48.jpg',\n",
              " '/tmp/cats_and_dogs_filtered/train/cats/cat.658.jpg',\n",
              " '/tmp/cats_and_dogs_filtered/train/cats/cat.867.jpg',\n",
              " '/tmp/cats_and_dogs_filtered/train/cats/cat.389.jpg',\n",
              " '/tmp/cats_and_dogs_filtered/train/cats/cat.74.jpg',\n",
              " '/tmp/cats_and_dogs_filtered/train/cats/cat.450.jpg',\n",
              " '/tmp/cats_and_dogs_filtered/train/cats/cat.622.jpg',\n",
              " '/tmp/cats_and_dogs_filtered/train/cats/cat.832.jpg',\n",
              " '/tmp/cats_and_dogs_filtered/train/cats/cat.534.jpg',\n",
              " '/tmp/cats_and_dogs_filtered/train/cats/cat.789.jpg',\n",
              " '/tmp/cats_and_dogs_filtered/train/cats/cat.728.jpg',\n",
              " '/tmp/cats_and_dogs_filtered/train/cats/cat.333.jpg',\n",
              " '/tmp/cats_and_dogs_filtered/train/cats/cat.727.jpg',\n",
              " '/tmp/cats_and_dogs_filtered/train/cats/cat.440.jpg',\n",
              " '/tmp/cats_and_dogs_filtered/train/cats/cat.363.jpg',\n",
              " '/tmp/cats_and_dogs_filtered/train/cats/cat.711.jpg',\n",
              " '/tmp/cats_and_dogs_filtered/train/cats/cat.582.jpg',\n",
              " '/tmp/cats_and_dogs_filtered/train/cats/cat.272.jpg',\n",
              " '/tmp/cats_and_dogs_filtered/train/cats/cat.519.jpg',\n",
              " '/tmp/cats_and_dogs_filtered/train/cats/cat.351.jpg',\n",
              " '/tmp/cats_and_dogs_filtered/train/cats/cat.266.jpg',\n",
              " '/tmp/cats_and_dogs_filtered/train/cats/cat.751.jpg',\n",
              " '/tmp/cats_and_dogs_filtered/train/cats/cat.61.jpg',\n",
              " '/tmp/cats_and_dogs_filtered/train/cats/cat.757.jpg',\n",
              " '/tmp/cats_and_dogs_filtered/train/cats/cat.420.jpg',\n",
              " '/tmp/cats_and_dogs_filtered/train/cats/cat.590.jpg']"
            ]
          },
          "metadata": {},
          "execution_count": 12
        }
      ]
    },
    {
      "cell_type": "code",
      "source": [
        "shape_counts = defaultdict(int)\n",
        "for i, cat in enumerate(glob.glob('/tmp/cats_and_dogs_filtered/train/cats/*')[:1000]):\n",
        "    if i%100==0:\n",
        "        print(i)\n",
        "    img_shape = pixels_from_path(cat).shape\n",
        "    shape_counts[str(img_shape)]= shape_counts[str(img_shape)]+ 1"
      ],
      "metadata": {
        "colab": {
          "base_uri": "https://localhost:8080/"
        },
        "id": "H9owP0qRyVJn",
        "outputId": "da9d41e6-4ba6-4a55-a54f-7857593538a8"
      },
      "execution_count": 13,
      "outputs": [
        {
          "output_type": "stream",
          "name": "stdout",
          "text": [
            "0\n",
            "100\n",
            "200\n",
            "300\n",
            "400\n",
            "500\n",
            "600\n",
            "700\n",
            "800\n",
            "900\n"
          ]
        }
      ]
    },
    {
      "cell_type": "code",
      "source": [
        "shape_items = list(shape_counts.items())\n",
        "shape_items.sort(key = lambda x: x[1])\n",
        "shape_items.reverse()"
      ],
      "metadata": {
        "id": "6bLYC-lmyfjx"
      },
      "execution_count": 14,
      "outputs": []
    },
    {
      "cell_type": "code",
      "source": [
        "validation_size = 0.1\n",
        "img_size = IMG_SIZE\n",
        "num_channels = 3\n",
        "sample_size = 8192"
      ],
      "metadata": {
        "id": "TVCm89EJyiZa"
      },
      "execution_count": 15,
      "outputs": []
    },
    {
      "cell_type": "code",
      "source": [
        "len(glob.glob('/tmp/cats_and_dogs_filtered/train/cats/*'))"
      ],
      "metadata": {
        "colab": {
          "base_uri": "https://localhost:8080/"
        },
        "id": "xUQIjX3Aykn-",
        "outputId": "62fae4c8-0447-46ca-a3f0-71960c2d1989"
      },
      "execution_count": 16,
      "outputs": [
        {
          "output_type": "execute_result",
          "data": {
            "text/plain": [
              "1000"
            ]
          },
          "metadata": {},
          "execution_count": 16
        }
      ]
    },
    {
      "cell_type": "code",
      "source": [
        "pixels_from_path(glob.glob('/tmp/cats_and_dogs_filtered/train/cats/*')[5]).shape"
      ],
      "metadata": {
        "colab": {
          "base_uri": "https://localhost:8080/"
        },
        "id": "-97fm8xKzkZ7",
        "outputId": "f74ef80f-b2fe-4e87-db0b-26bdafc67bc9"
      },
      "execution_count": 17,
      "outputs": [
        {
          "output_type": "execute_result",
          "data": {
            "text/plain": [
              "(125, 94, 3)"
            ]
          },
          "metadata": {},
          "execution_count": 17
        }
      ]
    },
    {
      "cell_type": "code",
      "source": [
        "SAMPLE_SIZE = 250\n",
        "print(\"Loading Training Cat Images : \")\n",
        "cat_train_set = np.asarray([pixels_from_path(cat) for cat in glob.glob('/tmp/cats_and_dogs_filtered/train/cats/*')[:SAMPLE_SIZE]])\n",
        "print(\"Loading Training Dog Images : \")\n",
        "dog_train_set = np.asarray([pixels_from_path(dog) for dog in glob.glob('/tmp/cats_and_dogs_filtered/train/dogs/*')[:SAMPLE_SIZE]])"
      ],
      "metadata": {
        "colab": {
          "base_uri": "https://localhost:8080/"
        },
        "id": "xtQZxI3Nz5Vk",
        "outputId": "f08e8896-2b12-40a3-f3cd-d89feea888ca"
      },
      "execution_count": 19,
      "outputs": [
        {
          "output_type": "stream",
          "name": "stdout",
          "text": [
            "Loading Training Cat Images : \n",
            "Loading Training Dog Images : \n"
          ]
        }
      ]
    },
    {
      "cell_type": "code",
      "source": [
        "valid_size = 500\n",
        "print(\"Loading Validation Cat Images : \")\n",
        "cat_valid_set = np.asarray([pixels_from_path(cat) for cat in glob.glob('/tmp/cats_and_dogs_filtered/train/cats/*')[-valid_size:]])\n",
        "print(\"Loading Validation Dog Images : \")\n",
        "dog_valid_set = np.asarray([pixels_from_path(dog) for dog in glob.glob('/tmp/cats_and_dogs_filtered/train/dogs/*')[-valid_size:]])"
      ],
      "metadata": {
        "colab": {
          "base_uri": "https://localhost:8080/"
        },
        "id": "DUiSrAQf0UlQ",
        "outputId": "0ac3ee5b-2d2f-49f8-f865-8f4688cfed0c"
      },
      "execution_count": 21,
      "outputs": [
        {
          "output_type": "stream",
          "name": "stdout",
          "text": [
            "Loading Validation Cat Images : \n",
            "Loading Validation Dog Images : \n"
          ]
        }
      ]
    },
    {
      "cell_type": "code",
      "source": [
        "x_train = np.concatenate([cat_train_set, dog_train_set])\n",
        "\n",
        "labels_train = np.asarray([1 for _ in range(SAMPLE_SIZE)]+[0 for _ in range(SAMPLE_SIZE)])"
      ],
      "metadata": {
        "id": "2OBXjPzT0q1j"
      },
      "execution_count": 22,
      "outputs": []
    },
    {
      "cell_type": "code",
      "source": [
        "x_valid = np.concatenate([cat_valid_set, dog_valid_set])\n",
        "labels_valid = np.asarray([1 for _ in range(valid_size)]+[0 for _ in range(valid_size)])"
      ],
      "metadata": {
        "id": "FDG555q60tGD"
      },
      "execution_count": 23,
      "outputs": []
    },
    {
      "cell_type": "code",
      "source": [
        "x_train.shape"
      ],
      "metadata": {
        "colab": {
          "base_uri": "https://localhost:8080/"
        },
        "id": "IOmOLJRU0vAX",
        "outputId": "97860eec-d430-4c97-9f5d-9bbbbada5b55"
      },
      "execution_count": 24,
      "outputs": [
        {
          "output_type": "execute_result",
          "data": {
            "text/plain": [
              "(500, 125, 94, 3)"
            ]
          },
          "metadata": {},
          "execution_count": 24
        }
      ]
    },
    {
      "cell_type": "code",
      "source": [
        "labels_train.shape"
      ],
      "metadata": {
        "colab": {
          "base_uri": "https://localhost:8080/"
        },
        "id": "D1OIIcdL0wWo",
        "outputId": "218fec1c-d4e1-426b-fbb5-71aa95e98af3"
      },
      "execution_count": 25,
      "outputs": [
        {
          "output_type": "execute_result",
          "data": {
            "text/plain": [
              "(500,)"
            ]
          },
          "metadata": {},
          "execution_count": 25
        }
      ]
    },
    {
      "cell_type": "markdown",
      "source": [
        "# Running Single Hidden Layer Fully Connected Neural Network"
      ],
      "metadata": {
        "id": "1fdpBMja02XI"
      }
    },
    {
      "cell_type": "code",
      "source": [
        "from tensorflow import keras\n",
        "from tensorflow.keras import layers\n",
        "total_pixels = img_size[0] *img_size[1] * 3\n",
        "fc_size = 512\n",
        "inputs = keras.Input(shape=(img_size[1], img_size[0],3), name='ani_image')\n",
        "x = layers.Flatten(name = 'flattened_img')(inputs) #turn image to vector.\n",
        "x = layers.Dense(fc_size, activation='relu', name='first_layer')(x)\n",
        "outputs = layers.Dense(1, activation='sigmoid', name='class')(x)\n",
        "model = keras.Model(inputs=inputs, outputs=outputs)"
      ],
      "metadata": {
        "id": "Vdp9Z5_B0126"
      },
      "execution_count": 26,
      "outputs": []
    },
    {
      "cell_type": "markdown",
      "source": [
        "Training with AdamOptimizer(fastest)"
      ],
      "metadata": {
        "id": "6myGmWqW2IZV"
      }
    },
    {
      "cell_type": "code",
      "source": [
        "customAdam = keras.optimizers.Adam(lr=0.001)\n",
        "model.compile(optimizer=customAdam,  #Optimizer\n",
        "              # Loss Function to minimise\n",
        "              loss=\"mean_squared_error\",\n",
        "              # List of metrics to monitor model performance\n",
        "              metrics=[\"binary_crossentropy\",\"mean_squared_error\"])"
      ],
      "metadata": {
        "colab": {
          "base_uri": "https://localhost:8080/"
        },
        "id": "QRup9D6j2Gei",
        "outputId": "18c6eac6-aaf5-4835-c40e-15840fbf145b"
      },
      "execution_count": 27,
      "outputs": [
        {
          "output_type": "stream",
          "name": "stderr",
          "text": [
            "WARNING:absl:`lr` is deprecated in Keras optimizer, please use `learning_rate` or use the legacy optimizer, e.g.,tf.keras.optimizers.legacy.Adam.\n"
          ]
        }
      ]
    },
    {
      "cell_type": "markdown",
      "source": [
        "10 epochs to avoid underfitting and ensure no overfitting for dataset size"
      ],
      "metadata": {
        "id": "kHQsygfl3TFf"
      }
    },
    {
      "cell_type": "code",
      "source": [
        "print('# Fit model on training data')\n",
        "\n",
        "history = model.fit(x_train, \n",
        "                    labels_train,\n",
        "                    batch_size=32, \n",
        "                    shuffle = True, # Due to load order of cats first and dogs second, intention is to reduce bias\n",
        "                    epochs=10,\n",
        "                    validation_data=(x_valid, labels_valid))"
      ],
      "metadata": {
        "colab": {
          "base_uri": "https://localhost:8080/"
        },
        "id": "yNTnmGDP2UMU",
        "outputId": "f0ad389c-61b7-4c87-eb0a-9406f668d41c"
      },
      "execution_count": 28,
      "outputs": [
        {
          "output_type": "stream",
          "name": "stdout",
          "text": [
            "# Fit model on training data\n",
            "Epoch 1/10\n",
            "16/16 [==============================] - 8s 406ms/step - loss: 0.5060 - binary_crossentropy: 1265.1827 - mean_squared_error: 0.5060 - val_loss: 0.5000 - val_binary_crossentropy: 3061.9863 - val_mean_squared_error: 0.5000\n",
            "Epoch 2/10\n",
            "16/16 [==============================] - 7s 473ms/step - loss: 0.5000 - binary_crossentropy: 3627.2185 - mean_squared_error: 0.5000 - val_loss: 0.5000 - val_binary_crossentropy: 4099.9053 - val_mean_squared_error: 0.5000\n",
            "Epoch 3/10\n",
            "16/16 [==============================] - 8s 487ms/step - loss: 0.5000 - binary_crossentropy: 4234.3003 - mean_squared_error: 0.5000 - val_loss: 0.5000 - val_binary_crossentropy: 4331.9360 - val_mean_squared_error: 0.5000\n",
            "Epoch 4/10\n",
            "16/16 [==============================] - 6s 400ms/step - loss: 0.5000 - binary_crossentropy: 4361.6387 - mean_squared_error: 0.5000 - val_loss: 0.5000 - val_binary_crossentropy: 4382.3101 - val_mean_squared_error: 0.5000\n",
            "Epoch 5/10\n",
            "16/16 [==============================] - 8s 526ms/step - loss: 0.5000 - binary_crossentropy: 4388.8359 - mean_squared_error: 0.5000 - val_loss: 0.5000 - val_binary_crossentropy: 4392.8765 - val_mean_squared_error: 0.5000\n",
            "Epoch 6/10\n",
            "16/16 [==============================] - 12s 771ms/step - loss: 0.5000 - binary_crossentropy: 4394.5615 - mean_squared_error: 0.5000 - val_loss: 0.5000 - val_binary_crossentropy: 4395.0391 - val_mean_squared_error: 0.5000\n",
            "Epoch 7/10\n",
            "16/16 [==============================] - 14s 893ms/step - loss: 0.5000 - binary_crossentropy: 4395.7241 - mean_squared_error: 0.5000 - val_loss: 0.5000 - val_binary_crossentropy: 4395.4746 - val_mean_squared_error: 0.5000\n",
            "Epoch 8/10\n",
            "16/16 [==============================] - 8s 495ms/step - loss: 0.5000 - binary_crossentropy: 4395.9502 - mean_squared_error: 0.5000 - val_loss: 0.5000 - val_binary_crossentropy: 4395.5571 - val_mean_squared_error: 0.5000\n",
            "Epoch 9/10\n",
            "16/16 [==============================] - 7s 472ms/step - loss: 0.5000 - binary_crossentropy: 4395.9849 - mean_squared_error: 0.5000 - val_loss: 0.5000 - val_binary_crossentropy: 4395.5649 - val_mean_squared_error: 0.5000\n",
            "Epoch 10/10\n",
            "16/16 [==============================] - 8s 503ms/step - loss: 0.5000 - binary_crossentropy: 4395.9868 - mean_squared_error: 0.5000 - val_loss: 0.5000 - val_binary_crossentropy: 4395.5649 - val_mean_squared_error: 0.5000\n"
          ]
        }
      ]
    },
    {
      "cell_type": "markdown",
      "source": [
        "#Training a Single Convolutional Layer Neural Network"
      ],
      "metadata": {
        "id": "sHul5tT_24V8"
      }
    },
    {
      "cell_type": "markdown",
      "source": [
        "*  24 kernels and 2 fully connected layers\n",
        "*  max pooling to reduce every four neurons to a single one with the highest value of the four"
      ],
      "metadata": {
        "id": "wVh0x3Ii4lz1"
      }
    },
    {
      "cell_type": "code",
      "source": [
        "fc_layer_size = 128\n",
        "img_size = IMG_SIZE\n",
        "conv_inputs = keras.Input(shape=(img_size[1], img_size[0],3), name='ani_image')\n",
        "conv_layer = layers.Conv2D(24, kernel_size=3, activation='relu')(conv_inputs)\n",
        "conv_layer = layers.MaxPool2D(pool_size=(2,2))(conv_layer)\n",
        "conv_x = layers.Flatten(name = 'flattened_features')(conv_layer)\n",
        "conv_x = layers.Dense(fc_layer_size, activation='relu', name='first_layer')(conv_x)\n",
        "conv_x = layers.Dense(fc_layer_size, activation='relu', name='second_layer')(conv_x)\n",
        "conv_outputs = layers.Dense(1, activation='sigmoid', name='class')(conv_x)\n",
        "conv_model = keras.Model(inputs=conv_inputs, outputs=conv_outputs)"
      ],
      "metadata": {
        "id": "P6jdEACV2--Q"
      },
      "execution_count": 29,
      "outputs": []
    },
    {
      "cell_type": "code",
      "source": [
        "customAdam = keras.optimizers.Adam(lr=1e-6)\n",
        "conv_model.compile(\n",
        "    optimizer=customAdam,\n",
        "    loss=\"binary_crossentropy\",\n",
        "    metrics=[\"binary_crossentropy\", \"mean_squared_error\"]\n",
        ")\n"
      ],
      "metadata": {
        "colab": {
          "base_uri": "https://localhost:8080/"
        },
        "id": "AGD4sS0E46X2",
        "outputId": "0d2ea585-2831-44fa-b644-955b1671801d"
      },
      "execution_count": 30,
      "outputs": [
        {
          "output_type": "stream",
          "name": "stderr",
          "text": [
            "WARNING:absl:`lr` is deprecated in Keras optimizer, please use `learning_rate` or use the legacy optimizer, e.g.,tf.keras.optimizers.legacy.Adam.\n"
          ]
        }
      ]
    },
    {
      "cell_type": "markdown",
      "source": [
        "5 epochs, performance improvement compared to previous networks "
      ],
      "metadata": {
        "id": "70noKPfFDUcv"
      }
    },
    {
      "cell_type": "code",
      "source": [
        "print('# Fit model on training data')\n",
        "\n",
        "history = conv_model.fit(x_train, \n",
        "                    labels_train,\n",
        "                    batch_size=32, \n",
        "                    shuffle = True,\n",
        "                    epochs=5,\n",
        "                    validation_data=(x_valid, labels_valid))"
      ],
      "metadata": {
        "colab": {
          "base_uri": "https://localhost:8080/"
        },
        "id": "zzAhgKag49mx",
        "outputId": "6e005a7d-be5e-41e6-c343-95d3afa60d72"
      },
      "execution_count": 31,
      "outputs": [
        {
          "output_type": "stream",
          "name": "stdout",
          "text": [
            "# Fit model on training data\n",
            "Epoch 1/5\n",
            "16/16 [==============================] - 13s 754ms/step - loss: 279.6039 - binary_crossentropy: 279.6039 - mean_squared_error: 0.5081 - val_loss: 98.2788 - val_binary_crossentropy: 98.2788 - val_mean_squared_error: 0.5000\n",
            "Epoch 2/5\n",
            "16/16 [==============================] - 10s 614ms/step - loss: 39.5589 - binary_crossentropy: 39.5589 - mean_squared_error: 0.4994 - val_loss: 6.1429 - val_binary_crossentropy: 6.1429 - val_mean_squared_error: 0.3687\n",
            "Epoch 3/5\n",
            "16/16 [==============================] - 8s 490ms/step - loss: 7.5417 - binary_crossentropy: 7.5417 - mean_squared_error: 0.3079 - val_loss: 10.3281 - val_binary_crossentropy: 10.3281 - val_mean_squared_error: 0.4008\n",
            "Epoch 4/5\n",
            "16/16 [==============================] - 10s 646ms/step - loss: 3.1724 - binary_crossentropy: 3.1724 - mean_squared_error: 0.2071 - val_loss: 5.2424 - val_binary_crossentropy: 5.2424 - val_mean_squared_error: 0.3680\n",
            "Epoch 5/5\n",
            "16/16 [==============================] - 11s 701ms/step - loss: 0.5190 - binary_crossentropy: 0.5190 - mean_squared_error: 0.0709 - val_loss: 4.9563 - val_binary_crossentropy: 4.9563 - val_mean_squared_error: 0.3705\n"
          ]
        }
      ]
    },
    {
      "cell_type": "markdown",
      "source": [
        "measuring Pearson correlation between predication and validation labels"
      ],
      "metadata": {
        "id": "FqgL2DO1Hckk"
      }
    },
    {
      "cell_type": "code",
      "source": [
        "preds = conv_model.predict(x_valid)\n",
        "preds = np.asarray([pred[0] for pred in preds])\n",
        "corr_coef = np.corrcoef(preds, labels_valid)\n",
        "np.corrcoef(preds, labels_valid)[0][1] "
      ],
      "metadata": {
        "colab": {
          "base_uri": "https://localhost:8080/"
        },
        "id": "1Ht6btkbDlLW",
        "outputId": "3f649095-94fb-4858-ce4b-3d448fda176f"
      },
      "execution_count": 37,
      "outputs": [
        {
          "output_type": "stream",
          "name": "stdout",
          "text": [
            "32/32 [==============================] - 7s 204ms/step\n"
          ]
        },
        {
          "output_type": "execute_result",
          "data": {
            "text/plain": [
              "-0.026951876620281236"
            ]
          },
          "metadata": {},
          "execution_count": 37
        }
      ]
    },
    {
      "cell_type": "markdown",
      "source": [
        "Visualisation"
      ],
      "metadata": {
        "id": "uUHrBQU4DqxE"
      }
    },
    {
      "cell_type": "code",
      "source": [
        "sns.scatterplot(x= preds, y= labels_valid)"
      ],
      "metadata": {
        "colab": {
          "base_uri": "https://localhost:8080/",
          "height": 447
        },
        "id": "pzoSPJrjDo9H",
        "outputId": "320fa251-bd15-4ff6-b20c-79616a853e87"
      },
      "execution_count": 33,
      "outputs": [
        {
          "output_type": "execute_result",
          "data": {
            "text/plain": [
              "<Axes: >"
            ]
          },
          "metadata": {},
          "execution_count": 33
        },
        {
          "output_type": "display_data",
          "data": {
            "text/plain": [
              "<Figure size 640x480 with 1 Axes>"
            ],
            "image/png": "[encoded data removed]"
          },
          "metadata": {}
        }
      ]
    },
    {
      "cell_type": "code",
      "source": [
        "cat_quantity = sum(labels_valid)\n",
        "for i in range(1,10):\n",
        "    threshold = .1*i\n",
        "    print('threshold: ' + str(threshold))\n",
        "    precision = sum(labels_valid[preds > threshold]) / preds[preds > threshold].shape[0]\n",
        "    print('precision: ' + str(precision))"
      ],
      "metadata": {
        "colab": {
          "base_uri": "https://localhost:8080/"
        },
        "id": "DcTsap6uDtzl",
        "outputId": "9a22d80e-031f-442b-f956-b6d3bd0ed76d"
      },
      "execution_count": 34,
      "outputs": [
        {
          "output_type": "stream",
          "name": "stdout",
          "text": [
            "threshold: 0.1\n",
            "precision: 0.6061776061776062\n",
            "threshold: 0.2\n",
            "precision: 0.6008064516129032\n",
            "threshold: 0.30000000000000004\n",
            "precision: 0.606694560669456\n",
            "threshold: 0.4\n",
            "precision: 0.6038543897216274\n",
            "threshold: 0.5\n",
            "precision: 0.6128318584070797\n",
            "threshold: 0.6000000000000001\n",
            "precision: 0.6141552511415526\n",
            "threshold: 0.7000000000000001\n",
            "precision: 0.6130536130536131\n",
            "threshold: 0.8\n",
            "precision: 0.6183574879227053\n",
            "threshold: 0.9\n",
            "precision: 0.6230769230769231\n"
          ]
        }
      ]
    },
    {
      "cell_type": "markdown",
      "source": [
        " "
      ],
      "metadata": {
        "id": "HeR8fsMtEF8d"
      }
    },
    {
      "cell_type": "code",
      "source": [
        "print(preds.mean())\n",
        "print(preds[labels_valid == 0].mean())\n",
        "print(preds[labels_valid == 1].mean())"
      ],
      "metadata": {
        "colab": {
          "base_uri": "https://localhost:8080/"
        },
        "id": "zrW92DC9Dv_f",
        "outputId": "6e8fb15c-7d86-4f77-8ffd-7b5f8b5528ca"
      },
      "execution_count": 35,
      "outputs": [
        {
          "output_type": "stream",
          "name": "stdout",
          "text": [
            "0.45180932\n",
            "0.35155883\n",
            "0.5520598\n"
          ]
        }
      ]
    },
    {
      "cell_type": "markdown",
      "source": [
        "#Bigger Convolutional Neural Network "
      ],
      "metadata": {
        "id": "VyR2g2R9DyhJ"
      }
    },
    {
      "cell_type": "markdown",
      "source": [
        "adding another convolutional layer. 48 kernels each\n",
        "\n",
        "\n",
        "*   learning more complex features from images\n",
        "*   longer training time and requirement from RAM( smaller dataset utilised so less expensive)\n",
        "\n"
      ],
      "metadata": {
        "id": "Okyp1pR5JY1y"
      }
    },
    {
      "cell_type": "code",
      "source": [
        "fc_layer_size = 256\n",
        "img_size = IMG_SIZE\n",
        "conv_inputs = keras.Input(shape=(img_size[1], img_size[0],3), name='ani_image')\n",
        "\n",
        "conv_layer = layers.Conv2D(48, kernel_size=3, activation='relu')(conv_inputs)\n",
        "conv_layer = layers.MaxPool2D(pool_size=(2,2))(conv_layer)\n",
        "\n",
        "conv_layer = layers.Conv2D(48, kernel_size=3, activation='relu')(conv_layer)\n",
        "conv_layer = layers.MaxPool2D(pool_size=(2,2))(conv_layer)\n",
        "\n",
        "conv_x = layers.Flatten(name = 'flattened_features')(conv_layer)\n",
        "\n",
        "conv_x = layers.Dense(fc_layer_size, activation='relu', name='first_layer')(conv_x)\n",
        "conv_x = layers.Dense(fc_layer_size, activation='relu', name='second_layer')(conv_x)\n",
        "\n",
        "conv_outputs = layers.Dense(1, activation='sigmoid', name='class')(conv_x)\n",
        "\n",
        "conv_model = keras.Model(inputs=conv_inputs, outputs=conv_outputs)"
      ],
      "metadata": {
        "id": "iRloSSLyD2Lh"
      },
      "execution_count": 36,
      "outputs": []
    },
    {
      "cell_type": "code",
      "source": [
        "customAdam = keras.optimizers.Adam(lr=1e-6)\n",
        "conv_model.compile(optimizer=customAdam,\n",
        "              loss=\"binary_crossentropy\",\n",
        "              metrics=[\"binary_crossentropy\",\"mean_squared_error\"])"
      ],
      "metadata": {
        "colab": {
          "base_uri": "https://localhost:8080/"
        },
        "id": "jIFjPqTLH_Mv",
        "outputId": "f04f0fde-e52a-441d-b2f5-568007668c44"
      },
      "execution_count": 38,
      "outputs": [
        {
          "output_type": "stream",
          "name": "stderr",
          "text": [
            "WARNING:absl:`lr` is deprecated in Keras optimizer, please use `learning_rate` or use the legacy optimizer, e.g.,tf.keras.optimizers.legacy.Adam.\n"
          ]
        }
      ]
    },
    {
      "cell_type": "markdown",
      "source": [
        "15 epochs "
      ],
      "metadata": {
        "id": "pqLaEsOxJsNU"
      }
    },
    {
      "cell_type": "code",
      "source": [
        "print('# Fit model on training data')\n",
        "\n",
        "history = conv_model.fit(x_train, \n",
        "                    labels_train,\n",
        "                    batch_size=64, \n",
        "                    shuffle = True,\n",
        "                    epochs=15,\n",
        "                    validation_data=(x_valid, labels_valid))"
      ],
      "metadata": {
        "colab": {
          "base_uri": "https://localhost:8080/"
        },
        "id": "m9MCuPuMIHF7",
        "outputId": "c0be8a19-b9d9-42d4-ad73-8251d710af2f"
      },
      "execution_count": 39,
      "outputs": [
        {
          "output_type": "stream",
          "name": "stdout",
          "text": [
            "# Fit model on training data\n",
            "Epoch 1/15\n",
            "8/8 [==============================] - 21s 3s/step - loss: 100.0062 - binary_crossentropy: 100.0062 - mean_squared_error: 0.4708 - val_loss: 4.0142 - val_binary_crossentropy: 4.0142 - val_mean_squared_error: 0.4982\n",
            "Epoch 2/15\n",
            "8/8 [==============================] - 18s 2s/step - loss: 1.7246 - binary_crossentropy: 1.7246 - mean_squared_error: 0.3815 - val_loss: 0.6909 - val_binary_crossentropy: 0.6909 - val_mean_squared_error: 0.2484\n",
            "Epoch 3/15\n",
            "8/8 [==============================] - 26s 3s/step - loss: 0.5573 - binary_crossentropy: 0.5573 - mean_squared_error: 0.1905 - val_loss: 0.7162 - val_binary_crossentropy: 0.7162 - val_mean_squared_error: 0.2506\n",
            "Epoch 4/15\n",
            "8/8 [==============================] - 24s 3s/step - loss: 0.3585 - binary_crossentropy: 0.3585 - mean_squared_error: 0.1131 - val_loss: 1.0597 - val_binary_crossentropy: 1.0597 - val_mean_squared_error: 0.3004\n",
            "Epoch 5/15\n",
            "8/8 [==============================] - 23s 3s/step - loss: 0.1589 - binary_crossentropy: 0.1589 - mean_squared_error: 0.0436 - val_loss: 1.4278 - val_binary_crossentropy: 1.4278 - val_mean_squared_error: 0.3119\n",
            "Epoch 6/15\n",
            "8/8 [==============================] - 18s 2s/step - loss: 0.0834 - binary_crossentropy: 0.0834 - mean_squared_error: 0.0201 - val_loss: 1.6678 - val_binary_crossentropy: 1.6678 - val_mean_squared_error: 0.3432\n",
            "Epoch 7/15\n",
            "8/8 [==============================] - 23s 3s/step - loss: 0.0405 - binary_crossentropy: 0.0405 - mean_squared_error: 0.0100 - val_loss: 1.6005 - val_binary_crossentropy: 1.6005 - val_mean_squared_error: 0.3386\n",
            "Epoch 8/15\n",
            "8/8 [==============================] - 23s 3s/step - loss: 0.0220 - binary_crossentropy: 0.0220 - mean_squared_error: 0.0036 - val_loss: 1.9568 - val_binary_crossentropy: 1.9568 - val_mean_squared_error: 0.3319\n",
            "Epoch 9/15\n",
            "8/8 [==============================] - 23s 3s/step - loss: 0.0142 - binary_crossentropy: 0.0142 - mean_squared_error: 0.0036 - val_loss: 1.9808 - val_binary_crossentropy: 1.9808 - val_mean_squared_error: 0.3466\n",
            "Epoch 10/15\n",
            "8/8 [==============================] - 23s 3s/step - loss: 0.0187 - binary_crossentropy: 0.0187 - mean_squared_error: 0.0047 - val_loss: 2.0699 - val_binary_crossentropy: 2.0699 - val_mean_squared_error: 0.3480\n",
            "Epoch 11/15\n",
            "8/8 [==============================] - 23s 3s/step - loss: 0.0083 - binary_crossentropy: 0.0083 - mean_squared_error: 0.0015 - val_loss: 2.1959 - val_binary_crossentropy: 2.1959 - val_mean_squared_error: 0.3559\n",
            "Epoch 12/15\n",
            "8/8 [==============================] - 18s 2s/step - loss: 0.0021 - binary_crossentropy: 0.0021 - mean_squared_error: 7.3330e-05 - val_loss: 2.4032 - val_binary_crossentropy: 2.4032 - val_mean_squared_error: 0.3531\n",
            "Epoch 13/15\n",
            "8/8 [==============================] - 22s 3s/step - loss: 5.8810e-04 - binary_crossentropy: 5.8810e-04 - mean_squared_error: 8.4895e-06 - val_loss: 2.6628 - val_binary_crossentropy: 2.6628 - val_mean_squared_error: 0.3457\n",
            "Epoch 14/15\n",
            "8/8 [==============================] - 23s 3s/step - loss: 2.5371e-04 - binary_crossentropy: 2.5371e-04 - mean_squared_error: 2.0063e-06 - val_loss: 2.7715 - val_binary_crossentropy: 2.7715 - val_mean_squared_error: 0.3480\n",
            "Epoch 15/15\n",
            "8/8 [==============================] - 22s 3s/step - loss: 1.0382e-04 - binary_crossentropy: 1.0382e-04 - mean_squared_error: 4.0455e-07 - val_loss: 2.8468 - val_binary_crossentropy: 2.8468 - val_mean_squared_error: 0.3500\n"
          ]
        }
      ]
    },
    {
      "cell_type": "code",
      "source": [
        "preds = conv_model.predict(x_valid)\n",
        "preds = np.asarray([pred[0] for pred in preds])\n",
        "corr_coef = np.corrcoef(preds, labels_valid)\n",
        "sns.scatterplot(x= preds, y= labels_valid)"
      ],
      "metadata": {
        "colab": {
          "base_uri": "https://localhost:8080/",
          "height": 465
        },
        "id": "NBox5foaKCLe",
        "outputId": "daecb9ed-c584-4519-e1c1-c76d69d9e775"
      },
      "execution_count": 40,
      "outputs": [
        {
          "output_type": "stream",
          "name": "stdout",
          "text": [
            "32/32 [==============================] - 8s 225ms/step\n"
          ]
        },
        {
          "output_type": "execute_result",
          "data": {
            "text/plain": [
              "<Axes: >"
            ]
          },
          "metadata": {},
          "execution_count": 40
        },
        {
          "output_type": "display_data",
          "data": {
            "text/plain": [
              "<Figure size 640x480 with 1 Axes>"
            ],
            "image/png": "[encoded data removed]"
          },
          "metadata": {}
        }
      ]
    },
    {
      "cell_type": "markdown",
      "source": [
        "comparing mean value to check for any model bias towards either 0 or 1 [ cat or dog ]"
      ],
      "metadata": {
        "id": "-wY8Fb4RKPcb"
      }
    },
    {
      "cell_type": "code",
      "source": [
        "print(preds.mean())\n",
        "print(preds[labels_valid == 0].mean())\n",
        "print(preds[labels_valid == 1].mean())"
      ],
      "metadata": {
        "colab": {
          "base_uri": "https://localhost:8080/"
        },
        "id": "V8n3uqeLKObP",
        "outputId": "bae70fb7-59a0-40ae-d518-2f7da68d0f2c"
      },
      "execution_count": 41,
      "outputs": [
        {
          "output_type": "stream",
          "name": "stdout",
          "text": [
            "0.45514533\n",
            "0.34821546\n",
            "0.5620752\n"
          ]
        }
      ]
    },
    {
      "cell_type": "markdown",
      "source": [
        "10 straightforward thresholds "
      ],
      "metadata": {
        "id": "_vtDZWIdKYjn"
      }
    },
    {
      "cell_type": "code",
      "source": [
        "cat_quantity = sum(labels_valid)\n",
        "for i in range(1,10):\n",
        "    print('threshold :'+str(.1*i))\n",
        "    print(sum(labels_valid[preds > .1*i])/labels_valid[preds > .1*i].shape[0])"
      ],
      "metadata": {
        "colab": {
          "base_uri": "https://localhost:8080/"
        },
        "id": "PhN3vmlgKcLu",
        "outputId": "1c9bf957-24f3-46ab-ebca-f50dcdb823a8"
      },
      "execution_count": 42,
      "outputs": [
        {
          "output_type": "stream",
          "name": "stdout",
          "text": [
            "threshold :0.1\n",
            "0.5974264705882353\n",
            "threshold :0.2\n",
            "0.6164383561643836\n",
            "threshold :0.30000000000000004\n",
            "0.6272912423625254\n",
            "threshold :0.4\n",
            "0.6255230125523012\n",
            "threshold :0.5\n",
            "0.6274509803921569\n",
            "threshold :0.6000000000000001\n",
            "0.6289592760180995\n",
            "threshold :0.7000000000000001\n",
            "0.6258992805755396\n",
            "threshold :0.8\n",
            "0.6177215189873417\n",
            "threshold :0.9\n",
            "0.6197183098591549\n"
          ]
        }
      ]
    },
    {
      "cell_type": "markdown",
      "source": [
        "Extracting an image from the validation dataset from an index as input, and then using converting the NumPy array into an image"
      ],
      "metadata": {
        "id": "7sQitLGiLxGj"
      }
    },
    {
      "cell_type": "markdown",
      "source": [
        "Using 'np.asarray()' to convert the image from the validation dataset to a NumPy array. passing it through the 'conv_model' to obtain predicted probability that the image contains a dog"
      ],
      "metadata": {
        "id": "SeXAmLzyL_uN"
      }
    },
    {
      "cell_type": "code",
      "source": [
        "def animal_pic(index):\n",
        "    return Image.fromarray(x_valid[index])\n",
        "def dog_index(index):\n",
        "    return conv_model.predict(np.asarray([x_valid[index]]))[0][0]"
      ],
      "metadata": {
        "id": "r-KG8E9bKg-l"
      },
      "execution_count": 50,
      "outputs": []
    },
    {
      "cell_type": "markdown",
      "source": [
        "saving CNN as Keras model"
      ],
      "metadata": {
        "id": "X0vcMLM1NNA0"
      }
    },
    {
      "cell_type": "code",
      "source": [
        " conv_model.save('conv_model_big')"
      ],
      "metadata": {
        "colab": {
          "base_uri": "https://localhost:8080/"
        },
        "id": "6YTne7ZXKiSQ",
        "outputId": "6d4c42a3-3778-4375-ad3c-39fceb1b4ea7"
      },
      "execution_count": 44,
      "outputs": [
        {
          "output_type": "stream",
          "name": "stderr",
          "text": [
            "WARNING:absl:Found untraced functions such as _jit_compiled_convolution_op, _jit_compiled_convolution_op, _update_step_xla while saving (showing 3 of 3). These functions will not be directly callable after loading.\n"
          ]
        }
      ]
    },
    {
      "cell_type": "markdown",
      "source": [
        "testing model on validation data"
      ],
      "metadata": {
        "id": "NDAchudELpWA"
      }
    },
    {
      "cell_type": "markdown",
      "source": [
        "probability extracted from the output of the model using '[0][0]'"
      ],
      "metadata": {
        "id": "8sCaR-cMMS6O"
      }
    },
    {
      "cell_type": "code",
      "source": [
        "index = 600\n",
        "print(\"Probability of being a Dog: {}\".format(dog_index(index)))\n",
        "animal_pic(index)"
      ],
      "metadata": {
        "colab": {
          "base_uri": "https://localhost:8080/",
          "height": 177
        },
        "id": "zn86dDk6Krds",
        "outputId": "4d22b908-3f1b-46a8-a7a9-7862649e821a"
      },
      "execution_count": 51,
      "outputs": [
        {
          "output_type": "stream",
          "name": "stdout",
          "text": [
            "1/1 [==============================] - 0s 45ms/step\n",
            "probability of being a dog: 0.9999727606773376\n"
          ]
        },
        {
          "output_type": "execute_result",
          "data": {
            "text/plain": [
              "<PIL.Image.Image image mode=RGB size=94x125 at 0x7F056687C6A0>"
            ],
            "image/png": "[encoded data removed]"
          },
          "metadata": {},
          "execution_count": 51
        }
      ]
    },
    {
      "cell_type": "markdown",
      "source": [
        "reshaping into 4D tensor with shape, passing it through the CNN( 'conv_model_predict') which outputs a prediction for the probability of input image being a dog"
      ],
      "metadata": {
        "id": "45WpZgqYMpCD"
      }
    },
    {
      "cell_type": "code",
      "source": [
        "conv_model.predict(np.asarray([x_valid[124]]))[0][0]"
      ],
      "metadata": {
        "colab": {
          "base_uri": "https://localhost:8080/"
        },
        "id": "IRyKvwt3KxKq",
        "outputId": "5a2f8dbb-11c8-4b3f-f354-41ef5e6a7c22"
      },
      "execution_count": 52,
      "outputs": [
        {
          "output_type": "stream",
          "name": "stdout",
          "text": [
            "1/1 [==============================] - 0s 70ms/step\n"
          ]
        },
        {
          "output_type": "execute_result",
          "data": {
            "text/plain": [
              "0.9999851"
            ]
          },
          "metadata": {},
          "execution_count": 52
        }
      ]
    },
    {
      "cell_type": "markdown",
      "source": [
        "loading a pre-trained Keral model called 'conv_model_big' and assigning it to be used for future prediction or fine-tuning on new data as 'big_model'"
      ],
      "metadata": {
        "id": "syigcch1NPpM"
      }
    },
    {
      "cell_type": "code",
      "source": [
        "big_model = keras.models.load_model('conv_model_big')"
      ],
      "metadata": {
        "id": "XqLYyWzaMk8T"
      },
      "execution_count": 53,
      "outputs": []
    },
    {
      "cell_type": "markdown",
      "source": [
        "#HUGE Convolutional Neural Network  "
      ],
      "metadata": {
        "id": "CU98TCVNNkOp"
      }
    },
    {
      "cell_type": "markdown",
      "source": [
        "increasing size of convolutional layers, with 128 filters each "
      ],
      "metadata": {
        "id": "KEMNvTSyNwNn"
      }
    },
    {
      "cell_type": "code",
      "source": [
        "fc_layer_size = 256\n",
        "img_size = IMG_SIZE\n",
        "\n",
        "conv_inputs = keras.Input(shape=(img_size[1], img_size[0],3), name='ani_image')\n",
        "\n",
        "conv_layer = layers.Conv2D(128, kernel_size=3, activation='relu')(conv_inputs)\n",
        "conv_layer = layers.MaxPool2D(pool_size=(2,2))(conv_layer)\n",
        "\n",
        "conv_layer = layers.Conv2D(128, kernel_size=3, activation='relu')(conv_layer)\n",
        "conv_layer = layers.MaxPool2D(pool_size=(2,2))(conv_layer)\n",
        "\n",
        "conv_x = layers.Flatten(name = 'flattened_features')(conv_layer)\n",
        "conv_x = layers.Dense(fc_layer_size, activation='relu', name='first_layer')(conv_x)\n",
        "conv_x = layers.Dense(fc_layer_size, activation='relu', name='second_layer')(conv_x)\n",
        "conv_outputs = layers.Dense(1, activation='sigmoid', name='class')(conv_x)\n",
        "huge_conv_model = keras.Model(inputs=conv_inputs, outputs=conv_outputs)"
      ],
      "metadata": {
        "id": "OzyZuV4RNtQ-"
      },
      "execution_count": 54,
      "outputs": []
    },
    {
      "cell_type": "code",
      "source": [
        "customAdam = keras.optimizers.Adam(lr=1e-6)\n",
        "huge_conv_model.compile(optimizer=customAdam,\n",
        "              loss=\"binary_crossentropy\",\n",
        "              metrics=[\"binary_crossentropy\",\"mean_squared_error\"])"
      ],
      "metadata": {
        "colab": {
          "base_uri": "https://localhost:8080/"
        },
        "id": "2JmsPbxVN2Ws",
        "outputId": "84f5123d-1b00-453b-99b5-63d052dc655f"
      },
      "execution_count": 55,
      "outputs": [
        {
          "output_type": "stream",
          "name": "stderr",
          "text": [
            "WARNING:absl:`lr` is deprecated in Keras optimizer, please use `learning_rate` or use the legacy optimizer, e.g.,tf.keras.optimizers.legacy.Adam.\n"
          ]
        }
      ]
    },
    {
      "cell_type": "markdown",
      "source": [
        "15 epochs. longer training time"
      ],
      "metadata": {
        "id": "cZCwd83cOQ0Y"
      }
    },
    {
      "cell_type": "code",
      "source": [
        "print('# Fit model on training data')\n",
        "\n",
        "history = huge_conv_model.fit(x_train, \n",
        "                    labels_train,\n",
        "                    batch_size=64, \n",
        "                    shuffle = True,\n",
        "                    epochs=15,\n",
        "                    validation_data=(x_valid, labels_valid))"
      ],
      "metadata": {
        "colab": {
          "base_uri": "https://localhost:8080/"
        },
        "id": "Rk3M2GRYN9Xl",
        "outputId": "57834c42-fd6c-490e-f86f-dc6f565d1f2d"
      },
      "execution_count": 56,
      "outputs": [
        {
          "output_type": "stream",
          "name": "stdout",
          "text": [
            "# Fit model on training data\n",
            "Epoch 1/15\n",
            "8/8 [==============================] - 88s 11s/step - loss: 156.7596 - binary_crossentropy: 156.7596 - mean_squared_error: 0.4470 - val_loss: 0.7015 - val_binary_crossentropy: 0.7015 - val_mean_squared_error: 0.2541\n",
            "Epoch 2/15\n",
            "8/8 [==============================] - 86s 11s/step - loss: 0.7214 - binary_crossentropy: 0.7214 - mean_squared_error: 0.2549 - val_loss: 0.6900 - val_binary_crossentropy: 0.6900 - val_mean_squared_error: 0.2465\n",
            "Epoch 3/15\n",
            "8/8 [==============================] - 89s 12s/step - loss: 0.6186 - binary_crossentropy: 0.6186 - mean_squared_error: 0.2163 - val_loss: 0.6909 - val_binary_crossentropy: 0.6909 - val_mean_squared_error: 0.2467\n",
            "Epoch 4/15\n",
            "8/8 [==============================] - 85s 11s/step - loss: 0.4361 - binary_crossentropy: 0.4361 - mean_squared_error: 0.1389 - val_loss: 0.9166 - val_binary_crossentropy: 0.9166 - val_mean_squared_error: 0.2918\n",
            "Epoch 5/15\n",
            "8/8 [==============================] - 86s 11s/step - loss: 0.3352 - binary_crossentropy: 0.3352 - mean_squared_error: 0.1075 - val_loss: 0.9349 - val_binary_crossentropy: 0.9349 - val_mean_squared_error: 0.2937\n",
            "Epoch 6/15\n",
            "8/8 [==============================] - 85s 11s/step - loss: 0.2731 - binary_crossentropy: 0.2731 - mean_squared_error: 0.0857 - val_loss: 1.6617 - val_binary_crossentropy: 1.6617 - val_mean_squared_error: 0.3481\n",
            "Epoch 7/15\n",
            "8/8 [==============================] - 85s 11s/step - loss: 0.1240 - binary_crossentropy: 0.1240 - mean_squared_error: 0.0382 - val_loss: 2.1847 - val_binary_crossentropy: 2.1847 - val_mean_squared_error: 0.3645\n",
            "Epoch 8/15\n",
            "8/8 [==============================] - 67s 9s/step - loss: 0.0737 - binary_crossentropy: 0.0737 - mean_squared_error: 0.0213 - val_loss: 3.1272 - val_binary_crossentropy: 3.1272 - val_mean_squared_error: 0.3976\n",
            "Epoch 9/15\n",
            "8/8 [==============================] - 85s 11s/step - loss: 0.0503 - binary_crossentropy: 0.0503 - mean_squared_error: 0.0147 - val_loss: 3.4162 - val_binary_crossentropy: 3.4162 - val_mean_squared_error: 0.3755\n",
            "Epoch 10/15\n",
            "8/8 [==============================] - 85s 11s/step - loss: 0.0384 - binary_crossentropy: 0.0384 - mean_squared_error: 0.0093 - val_loss: 4.8336 - val_binary_crossentropy: 4.8336 - val_mean_squared_error: 0.4044\n",
            "Epoch 11/15\n",
            "8/8 [==============================] - 86s 11s/step - loss: 0.0311 - binary_crossentropy: 0.0311 - mean_squared_error: 0.0096 - val_loss: 3.3507 - val_binary_crossentropy: 3.3507 - val_mean_squared_error: 0.3782\n",
            "Epoch 12/15\n",
            "8/8 [==============================] - 85s 11s/step - loss: 0.0636 - binary_crossentropy: 0.0636 - mean_squared_error: 0.0141 - val_loss: 3.6248 - val_binary_crossentropy: 3.6248 - val_mean_squared_error: 0.3854\n",
            "Epoch 13/15\n",
            "8/8 [==============================] - 85s 11s/step - loss: 0.0713 - binary_crossentropy: 0.0713 - mean_squared_error: 0.0187 - val_loss: 2.9550 - val_binary_crossentropy: 2.9550 - val_mean_squared_error: 0.3757\n",
            "Epoch 14/15\n",
            "8/8 [==============================] - 84s 11s/step - loss: 0.0446 - binary_crossentropy: 0.0446 - mean_squared_error: 0.0118 - val_loss: 4.1197 - val_binary_crossentropy: 4.1197 - val_mean_squared_error: 0.3910\n",
            "Epoch 15/15\n",
            "8/8 [==============================] - 84s 11s/step - loss: 0.0337 - binary_crossentropy: 0.0337 - mean_squared_error: 0.0096 - val_loss: 4.3302 - val_binary_crossentropy: 4.3302 - val_mean_squared_error: 0.4014\n"
          ]
        }
      ]
    },
    {
      "cell_type": "code",
      "source": [
        "preds = huge_conv_model.predict(x_valid)\n",
        "preds = np.asarray([pred[0] for pred in preds])\n",
        "np.corrcoef(preds, labels_valid)"
      ],
      "metadata": {
        "colab": {
          "base_uri": "https://localhost:8080/"
        },
        "id": "CpqobKLNSyKv",
        "outputId": "bb1d78a3-aa4c-46a1-f550-ccf397aa47e5"
      },
      "execution_count": 57,
      "outputs": [
        {
          "output_type": "stream",
          "name": "stdout",
          "text": [
            "32/32 [==============================] - 24s 753ms/step\n"
          ]
        },
        {
          "output_type": "execute_result",
          "data": {
            "text/plain": [
              "array([[1.        , 0.10582743],\n",
              "       [0.10582743, 1.        ]])"
            ]
          },
          "metadata": {},
          "execution_count": 57
        }
      ]
    },
    {
      "cell_type": "code",
      "source": [
        "cat_quantity = sum(labels_valid)\n",
        "for i in range(1,10):\n",
        "    print('threshold :'+str(.1*i))\n",
        "    print(sum(labels_valid[preds > .1*i])/labels_valid[preds > .1*i].shape[0])"
      ],
      "metadata": {
        "colab": {
          "base_uri": "https://localhost:8080/"
        },
        "id": "O1_32QdkTC18",
        "outputId": "de24f745-1c75-4001-c504-e2c9ab2cf94b"
      },
      "execution_count": 58,
      "outputs": [
        {
          "output_type": "stream",
          "name": "stdout",
          "text": [
            "threshold :0.1\n",
            "0.5255172413793103\n",
            "threshold :0.2\n",
            "0.5279770444763271\n",
            "threshold :0.30000000000000004\n",
            "0.5282738095238095\n",
            "threshold :0.4\n",
            "0.5346687211093991\n",
            "threshold :0.5\n",
            "0.5451612903225806\n",
            "threshold :0.6000000000000001\n",
            "0.5432937181663837\n",
            "threshold :0.7000000000000001\n",
            "0.5443262411347518\n",
            "threshold :0.8\n",
            "0.5542857142857143\n",
            "threshold :0.9\n",
            "0.5505154639175258\n"
          ]
        }
      ]
    },
    {
      "cell_type": "code",
      "source": [
        "huge_conv_model.save('conv_model_huge_e13')\n",
        "big_model = keras.models.load_model('conv_model_huge_e13')\n"
      ],
      "metadata": {
        "colab": {
          "base_uri": "https://localhost:8080/"
        },
        "id": "AAgTzaycTJei",
        "outputId": "01e8eb02-3dce-4212-f119-5453b1f8b648"
      },
      "execution_count": 59,
      "outputs": [
        {
          "output_type": "stream",
          "name": "stderr",
          "text": [
            "WARNING:absl:Found untraced functions such as _jit_compiled_convolution_op, _jit_compiled_convolution_op, _update_step_xla while saving (showing 3 of 3). These functions will not be directly callable after loading.\n"
          ]
        }
      ]
    },
    {
      "cell_type": "code",
      "source": [
        "preds = big_model.predict(x_valid)\n",
        "preds = np.asarray([pred[0] for pred in preds])\n",
        "sum(labels_valid)"
      ],
      "metadata": {
        "colab": {
          "base_uri": "https://localhost:8080/"
        },
        "id": "IHEo_cMMTNj-",
        "outputId": "e7d711a8-4f78-4a38-86af-bebb179210e2"
      },
      "execution_count": 60,
      "outputs": [
        {
          "output_type": "stream",
          "name": "stdout",
          "text": [
            "32/32 [==============================] - 25s 775ms/step\n"
          ]
        },
        {
          "output_type": "execute_result",
          "data": {
            "text/plain": [
              "500"
            ]
          },
          "metadata": {},
          "execution_count": 60
        }
      ]
    },
    {
      "cell_type": "markdown",
      "source": [
        "analysing how the accuracy of the model changes as the threshold changes "
      ],
      "metadata": {
        "id": "9PBHneLDTj0m"
      }
    },
    {
      "cell_type": "code",
      "source": [
        "for i in range(1,10):\n",
        "    t = .1*i\n",
        "    print(\"{:.1f}:\".format(t))\n",
        "    tp = (preds > t)&(labels_valid==1)\n",
        "    tn = (preds <= t)&(labels_valid==0)\n",
        "    print(np.sum(np.where(tp|tn, 1, 0))/1024.)"
      ],
      "metadata": {
        "colab": {
          "base_uri": "https://localhost:8080/"
        },
        "id": "wrJVqe0ITQco",
        "outputId": "6258c410-3c83-4524-8e18-dc894269a831"
      },
      "execution_count": 61,
      "outputs": [
        {
          "output_type": "stream",
          "name": "stdout",
          "text": [
            "0.1:\n",
            "0.5244140625\n",
            "0.2:\n",
            "0.5263671875\n",
            "0.3:\n",
            "0.525390625\n",
            "0.4:\n",
            "0.5322265625\n",
            "0.5:\n",
            "0.54296875\n",
            "0.6:\n",
            "0.5380859375\n",
            "0.7:\n",
            "0.537109375\n",
            "0.8:\n",
            "0.5439453125\n",
            "0.9:\n",
            "0.5361328125\n"
          ]
        }
      ]
    },
    {
      "cell_type": "markdown",
      "source": [
        "10 epochs. batch size of 64, training 'big_model' with 'x_train' and 'labels_train' data\n",
        "\n",
        "*   through repeated adjustments of weights, model learns to classify data better\n",
        "* after training is complete, history variable containts information about the loss and accuracy of this model\n",
        "\n"
      ],
      "metadata": {
        "id": "M-78MTJLTosp"
      }
    },
    {
      "cell_type": "code",
      "source": [
        "print('# Fit model on training data')\n",
        "\n",
        "history = big_model.fit(x_train, \n",
        "                    labels_train,\n",
        "                    batch_size=64, \n",
        "                    shuffle = True,\n",
        "                    epochs=10,\n",
        "                    validation_data=(x_valid, labels_valid))"
      ],
      "metadata": {
        "colab": {
          "base_uri": "https://localhost:8080/"
        },
        "id": "D2-m90rGTlCv",
        "outputId": "1dd146b9-bb50-4019-ba8b-62ec87ec148a"
      },
      "execution_count": 62,
      "outputs": [
        {
          "output_type": "stream",
          "name": "stdout",
          "text": [
            "# Fit model on training data\n",
            "Epoch 1/10\n",
            "8/8 [==============================] - 94s 12s/step - loss: 2.7167 - binary_crossentropy: 2.7167 - mean_squared_error: 0.0961 - val_loss: 3.8687 - val_binary_crossentropy: 3.8687 - val_mean_squared_error: 0.3888\n",
            "Epoch 2/10\n",
            "8/8 [==============================] - 90s 12s/step - loss: 0.1687 - binary_crossentropy: 0.1687 - mean_squared_error: 0.0497 - val_loss: 2.2184 - val_binary_crossentropy: 2.2184 - val_mean_squared_error: 0.3585\n",
            "Epoch 3/10\n",
            "8/8 [==============================] - 69s 9s/step - loss: 0.0644 - binary_crossentropy: 0.0644 - mean_squared_error: 0.0163 - val_loss: 3.2871 - val_binary_crossentropy: 3.2871 - val_mean_squared_error: 0.3698\n",
            "Epoch 4/10\n",
            "8/8 [==============================] - 67s 9s/step - loss: 0.0448 - binary_crossentropy: 0.0448 - mean_squared_error: 0.0105 - val_loss: 3.7199 - val_binary_crossentropy: 3.7199 - val_mean_squared_error: 0.3952\n",
            "Epoch 5/10\n",
            "8/8 [==============================] - 84s 11s/step - loss: 0.0959 - binary_crossentropy: 0.0959 - mean_squared_error: 0.0229 - val_loss: 4.6967 - val_binary_crossentropy: 4.6967 - val_mean_squared_error: 0.4174\n",
            "Epoch 6/10\n",
            "8/8 [==============================] - 68s 9s/step - loss: 0.0471 - binary_crossentropy: 0.0471 - mean_squared_error: 0.0086 - val_loss: 5.0545 - val_binary_crossentropy: 5.0545 - val_mean_squared_error: 0.4194\n",
            "Epoch 7/10\n",
            "8/8 [==============================] - 85s 11s/step - loss: 0.0281 - binary_crossentropy: 0.0281 - mean_squared_error: 0.0083 - val_loss: 5.4004 - val_binary_crossentropy: 5.4004 - val_mean_squared_error: 0.4238\n",
            "Epoch 8/10\n",
            "8/8 [==============================] - 84s 11s/step - loss: 0.0413 - binary_crossentropy: 0.0413 - mean_squared_error: 0.0135 - val_loss: 7.0413 - val_binary_crossentropy: 7.0413 - val_mean_squared_error: 0.4172\n",
            "Epoch 9/10\n",
            "8/8 [==============================] - 85s 11s/step - loss: 0.0244 - binary_crossentropy: 0.0244 - mean_squared_error: 0.0078 - val_loss: 4.8822 - val_binary_crossentropy: 4.8822 - val_mean_squared_error: 0.3896\n",
            "Epoch 10/10\n",
            "8/8 [==============================] - 84s 11s/step - loss: 0.0165 - binary_crossentropy: 0.0165 - mean_squared_error: 0.0044 - val_loss: 5.1701 - val_binary_crossentropy: 5.1701 - val_mean_squared_error: 0.3935\n"
          ]
        }
      ]
    },
    {
      "cell_type": "markdown",
      "source": [
        "evaluating performance of 'big_model' on the validation set at diferrent probability thresholds, to select an appropriate threshold for any intended purposes of application with this model."
      ],
      "metadata": {
        "id": "ZYBC6X2pXUEN"
      }
    },
    {
      "cell_type": "code",
      "source": [
        "preds = big_model.predict(x_valid)\n",
        "preds = np.asarray([pred[0] for pred in preds])\n",
        "for i in range(1,10):\n",
        "    t = .1*i\n",
        "    print(\"{:.1f}:\".format(t))\n",
        "    tp = (preds > t)&(labels_valid==1)\n",
        "    tn = (preds <= t)&(labels_valid==0)\n",
        "    print(np.sum(np.where(tp|tn, 1, 0))/1024.)"
      ],
      "metadata": {
        "colab": {
          "base_uri": "https://localhost:8080/"
        },
        "id": "k5CSFejfXOnK",
        "outputId": "bdc32229-3df6-4e5d-9ec6-59018ec57cde"
      },
      "execution_count": 63,
      "outputs": [
        {
          "output_type": "stream",
          "name": "stdout",
          "text": [
            "32/32 [==============================] - 30s 893ms/step\n",
            "0.1:\n",
            "0.55859375\n",
            "0.2:\n",
            "0.5625\n",
            "0.3:\n",
            "0.5673828125\n",
            "0.4:\n",
            "0.5625\n",
            "0.5:\n",
            "0.5546875\n",
            "0.6:\n",
            "0.5546875\n",
            "0.7:\n",
            "0.5537109375\n",
            "0.8:\n",
            "0.544921875\n",
            "0.9:\n",
            "0.541015625\n"
          ]
        }
      ]
    },
    {
      "cell_type": "markdown",
      "source": [
        "creating a Receiver Operating Charateristic curve to show the relationship between the TPR and the FPR for different thresholds\n",
        "\n",
        "*   the closer the ROC curve is to the top left corner, the better the performance of the classifier.\n",
        "\n"
      ],
      "metadata": {
        "id": "9uA1kqEDYEgm"
      }
    },
    {
      "cell_type": "code",
      "source": [
        "from sklearn.metrics import roc_curve, auc\n",
        "\n",
        "fpr, tpr, thresholds = roc_curve(labels_valid, preds)\n",
        "roc_auc = auc(fpr, tpr)\n",
        "\n",
        "plt.plot(fpr, tpr, label='ROC curve (area = {:.2f})'.format(roc_auc))\n",
        "plt.plot([0, 1], [0, 1], 'k--', label='Random guess')\n",
        "plt.xlabel('False Positive Rate')\n",
        "plt.ylabel('True Positive Rate')\n",
        "plt.title('Receiver Operating Characteristic')\n",
        "plt.legend(loc='lower right')\n",
        "plt.show()"
      ],
      "metadata": {
        "colab": {
          "base_uri": "https://localhost:8080/",
          "height": 472
        },
        "id": "H1Om9dRUYCUW",
        "outputId": "ae78657e-31d0-421f-f913-76f492691dc9"
      },
      "execution_count": 67,
      "outputs": [
        {
          "output_type": "display_data",
          "data": {
            "text/plain": [
              "<Figure size 640x480 with 1 Axes>"
            ],
            "image/png": "[encoded data removed]"
          },
          "metadata": {}
        }
      ]
    },
    {
      "cell_type": "code",
      "source": [
        "big_model.save('conv_model_big_e19')"
      ],
      "metadata": {
        "colab": {
          "base_uri": "https://localhost:8080/"
        },
        "id": "1qL9hom7Xl4a",
        "outputId": "98a0f89a-772a-4822-8728-dd99266a6834"
      },
      "execution_count": 68,
      "outputs": [
        {
          "output_type": "stream",
          "name": "stderr",
          "text": [
            "WARNING:absl:Found untraced functions such as _jit_compiled_convolution_op, _jit_compiled_convolution_op, _update_step_xla while saving (showing 3 of 3). These functions will not be directly callable after loading.\n"
          ]
        }
      ]
    }
  ]
}